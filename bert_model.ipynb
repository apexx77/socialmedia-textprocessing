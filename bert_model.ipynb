{
  "nbformat": 4,
  "nbformat_minor": 0,
  "metadata": {
    "accelerator": "GPU",
    "colab": {
      "name": "bert_model.ipynb",
      "provenance": [],
      "collapsed_sections": []
    },
    "kernelspec": {
      "display_name": "Python 3",
      "name": "python3"
    },
    "language_info": {
      "name": "python"
    },
    "widgets": {
      "application/vnd.jupyter.widget-state+json": {
        "d87548ee73174b448b3d19ff6b01d583": {
          "model_module": "@jupyter-widgets/controls",
          "model_name": "HBoxModel",
          "state": {
            "_view_name": "HBoxView",
            "_dom_classes": [],
            "_model_name": "HBoxModel",
            "_view_module": "@jupyter-widgets/controls",
            "_model_module_version": "1.5.0",
            "_view_count": null,
            "_view_module_version": "1.5.0",
            "box_style": "",
            "layout": "IPY_MODEL_ea6c3bea25c44fcaba17121eec00fe42",
            "_model_module": "@jupyter-widgets/controls",
            "children": [
              "IPY_MODEL_1006ade3d0c34213a231bc895d5b6e42",
              "IPY_MODEL_aec5b94f96b94bf3a6f34a83323ac583"
            ]
          }
        },
        "ea6c3bea25c44fcaba17121eec00fe42": {
          "model_module": "@jupyter-widgets/base",
          "model_name": "LayoutModel",
          "state": {
            "_view_name": "LayoutView",
            "grid_template_rows": null,
            "right": null,
            "justify_content": null,
            "_view_module": "@jupyter-widgets/base",
            "overflow": null,
            "_model_module_version": "1.2.0",
            "_view_count": null,
            "flex_flow": null,
            "width": null,
            "min_width": null,
            "border": null,
            "align_items": null,
            "bottom": null,
            "_model_module": "@jupyter-widgets/base",
            "top": null,
            "grid_column": null,
            "overflow_y": null,
            "overflow_x": null,
            "grid_auto_flow": null,
            "grid_area": null,
            "grid_template_columns": null,
            "flex": null,
            "_model_name": "LayoutModel",
            "justify_items": null,
            "grid_row": null,
            "max_height": null,
            "align_content": null,
            "visibility": null,
            "align_self": null,
            "height": null,
            "min_height": null,
            "padding": null,
            "grid_auto_rows": null,
            "grid_gap": null,
            "max_width": null,
            "order": null,
            "_view_module_version": "1.2.0",
            "grid_template_areas": null,
            "object_position": null,
            "object_fit": null,
            "grid_auto_columns": null,
            "margin": null,
            "display": null,
            "left": null
          }
        },
        "1006ade3d0c34213a231bc895d5b6e42": {
          "model_module": "@jupyter-widgets/controls",
          "model_name": "FloatProgressModel",
          "state": {
            "_view_name": "ProgressView",
            "style": "IPY_MODEL_cd2f4e1894db482087388ed9bd72615a",
            "_dom_classes": [],
            "description": "Downloading: 100%",
            "_model_name": "FloatProgressModel",
            "bar_style": "success",
            "max": 898823,
            "_view_module": "@jupyter-widgets/controls",
            "_model_module_version": "1.5.0",
            "value": 898823,
            "_view_count": null,
            "_view_module_version": "1.5.0",
            "orientation": "horizontal",
            "min": 0,
            "description_tooltip": null,
            "_model_module": "@jupyter-widgets/controls",
            "layout": "IPY_MODEL_765432b21e7a4a458f38c6e692dacf7a"
          }
        },
        "aec5b94f96b94bf3a6f34a83323ac583": {
          "model_module": "@jupyter-widgets/controls",
          "model_name": "HTMLModel",
          "state": {
            "_view_name": "HTMLView",
            "style": "IPY_MODEL_b8aff13f4a704e9a8b39e5651b023752",
            "_dom_classes": [],
            "description": "",
            "_model_name": "HTMLModel",
            "placeholder": "​",
            "_view_module": "@jupyter-widgets/controls",
            "_model_module_version": "1.5.0",
            "value": " 899k/899k [00:02&lt;00:00, 349kB/s]",
            "_view_count": null,
            "_view_module_version": "1.5.0",
            "description_tooltip": null,
            "_model_module": "@jupyter-widgets/controls",
            "layout": "IPY_MODEL_4fb069f4ac084837b79fbb0e9cf29f6b"
          }
        },
        "cd2f4e1894db482087388ed9bd72615a": {
          "model_module": "@jupyter-widgets/controls",
          "model_name": "ProgressStyleModel",
          "state": {
            "_view_name": "StyleView",
            "_model_name": "ProgressStyleModel",
            "description_width": "initial",
            "_view_module": "@jupyter-widgets/base",
            "_model_module_version": "1.5.0",
            "_view_count": null,
            "_view_module_version": "1.2.0",
            "bar_color": null,
            "_model_module": "@jupyter-widgets/controls"
          }
        },
        "765432b21e7a4a458f38c6e692dacf7a": {
          "model_module": "@jupyter-widgets/base",
          "model_name": "LayoutModel",
          "state": {
            "_view_name": "LayoutView",
            "grid_template_rows": null,
            "right": null,
            "justify_content": null,
            "_view_module": "@jupyter-widgets/base",
            "overflow": null,
            "_model_module_version": "1.2.0",
            "_view_count": null,
            "flex_flow": null,
            "width": null,
            "min_width": null,
            "border": null,
            "align_items": null,
            "bottom": null,
            "_model_module": "@jupyter-widgets/base",
            "top": null,
            "grid_column": null,
            "overflow_y": null,
            "overflow_x": null,
            "grid_auto_flow": null,
            "grid_area": null,
            "grid_template_columns": null,
            "flex": null,
            "_model_name": "LayoutModel",
            "justify_items": null,
            "grid_row": null,
            "max_height": null,
            "align_content": null,
            "visibility": null,
            "align_self": null,
            "height": null,
            "min_height": null,
            "padding": null,
            "grid_auto_rows": null,
            "grid_gap": null,
            "max_width": null,
            "order": null,
            "_view_module_version": "1.2.0",
            "grid_template_areas": null,
            "object_position": null,
            "object_fit": null,
            "grid_auto_columns": null,
            "margin": null,
            "display": null,
            "left": null
          }
        },
        "b8aff13f4a704e9a8b39e5651b023752": {
          "model_module": "@jupyter-widgets/controls",
          "model_name": "DescriptionStyleModel",
          "state": {
            "_view_name": "StyleView",
            "_model_name": "DescriptionStyleModel",
            "description_width": "",
            "_view_module": "@jupyter-widgets/base",
            "_model_module_version": "1.5.0",
            "_view_count": null,
            "_view_module_version": "1.2.0",
            "_model_module": "@jupyter-widgets/controls"
          }
        },
        "4fb069f4ac084837b79fbb0e9cf29f6b": {
          "model_module": "@jupyter-widgets/base",
          "model_name": "LayoutModel",
          "state": {
            "_view_name": "LayoutView",
            "grid_template_rows": null,
            "right": null,
            "justify_content": null,
            "_view_module": "@jupyter-widgets/base",
            "overflow": null,
            "_model_module_version": "1.2.0",
            "_view_count": null,
            "flex_flow": null,
            "width": null,
            "min_width": null,
            "border": null,
            "align_items": null,
            "bottom": null,
            "_model_module": "@jupyter-widgets/base",
            "top": null,
            "grid_column": null,
            "overflow_y": null,
            "overflow_x": null,
            "grid_auto_flow": null,
            "grid_area": null,
            "grid_template_columns": null,
            "flex": null,
            "_model_name": "LayoutModel",
            "justify_items": null,
            "grid_row": null,
            "max_height": null,
            "align_content": null,
            "visibility": null,
            "align_self": null,
            "height": null,
            "min_height": null,
            "padding": null,
            "grid_auto_rows": null,
            "grid_gap": null,
            "max_width": null,
            "order": null,
            "_view_module_version": "1.2.0",
            "grid_template_areas": null,
            "object_position": null,
            "object_fit": null,
            "grid_auto_columns": null,
            "margin": null,
            "display": null,
            "left": null
          }
        },
        "361d840fb3184eadbf75109f5059cbe6": {
          "model_module": "@jupyter-widgets/controls",
          "model_name": "HBoxModel",
          "state": {
            "_view_name": "HBoxView",
            "_dom_classes": [],
            "_model_name": "HBoxModel",
            "_view_module": "@jupyter-widgets/controls",
            "_model_module_version": "1.5.0",
            "_view_count": null,
            "_view_module_version": "1.5.0",
            "box_style": "",
            "layout": "IPY_MODEL_e8ff3b4f0d624a8b98f324e3d6d8e67a",
            "_model_module": "@jupyter-widgets/controls",
            "children": [
              "IPY_MODEL_9bb2a8acb8bf43f18a33f87a9cca138f",
              "IPY_MODEL_203aa964504e4fecbe759ef5c56e1258"
            ]
          }
        },
        "e8ff3b4f0d624a8b98f324e3d6d8e67a": {
          "model_module": "@jupyter-widgets/base",
          "model_name": "LayoutModel",
          "state": {
            "_view_name": "LayoutView",
            "grid_template_rows": null,
            "right": null,
            "justify_content": null,
            "_view_module": "@jupyter-widgets/base",
            "overflow": null,
            "_model_module_version": "1.2.0",
            "_view_count": null,
            "flex_flow": null,
            "width": null,
            "min_width": null,
            "border": null,
            "align_items": null,
            "bottom": null,
            "_model_module": "@jupyter-widgets/base",
            "top": null,
            "grid_column": null,
            "overflow_y": null,
            "overflow_x": null,
            "grid_auto_flow": null,
            "grid_area": null,
            "grid_template_columns": null,
            "flex": null,
            "_model_name": "LayoutModel",
            "justify_items": null,
            "grid_row": null,
            "max_height": null,
            "align_content": null,
            "visibility": null,
            "align_self": null,
            "height": null,
            "min_height": null,
            "padding": null,
            "grid_auto_rows": null,
            "grid_gap": null,
            "max_width": null,
            "order": null,
            "_view_module_version": "1.2.0",
            "grid_template_areas": null,
            "object_position": null,
            "object_fit": null,
            "grid_auto_columns": null,
            "margin": null,
            "display": null,
            "left": null
          }
        },
        "9bb2a8acb8bf43f18a33f87a9cca138f": {
          "model_module": "@jupyter-widgets/controls",
          "model_name": "FloatProgressModel",
          "state": {
            "_view_name": "ProgressView",
            "style": "IPY_MODEL_484ec864b2c44570a37702980c0b909a",
            "_dom_classes": [],
            "description": "Downloading: 100%",
            "_model_name": "FloatProgressModel",
            "bar_style": "success",
            "max": 456318,
            "_view_module": "@jupyter-widgets/controls",
            "_model_module_version": "1.5.0",
            "value": 456318,
            "_view_count": null,
            "_view_module_version": "1.5.0",
            "orientation": "horizontal",
            "min": 0,
            "description_tooltip": null,
            "_model_module": "@jupyter-widgets/controls",
            "layout": "IPY_MODEL_f9adfdd892ad414f86db6bdb71670248"
          }
        },
        "203aa964504e4fecbe759ef5c56e1258": {
          "model_module": "@jupyter-widgets/controls",
          "model_name": "HTMLModel",
          "state": {
            "_view_name": "HTMLView",
            "style": "IPY_MODEL_61cfc4fe31eb458399d128231a0a0c74",
            "_dom_classes": [],
            "description": "",
            "_model_name": "HTMLModel",
            "placeholder": "​",
            "_view_module": "@jupyter-widgets/controls",
            "_model_module_version": "1.5.0",
            "value": " 456k/456k [00:01&lt;00:00, 338kB/s]",
            "_view_count": null,
            "_view_module_version": "1.5.0",
            "description_tooltip": null,
            "_model_module": "@jupyter-widgets/controls",
            "layout": "IPY_MODEL_bb7b000a386f4fdcbfae987553f89e47"
          }
        },
        "484ec864b2c44570a37702980c0b909a": {
          "model_module": "@jupyter-widgets/controls",
          "model_name": "ProgressStyleModel",
          "state": {
            "_view_name": "StyleView",
            "_model_name": "ProgressStyleModel",
            "description_width": "initial",
            "_view_module": "@jupyter-widgets/base",
            "_model_module_version": "1.5.0",
            "_view_count": null,
            "_view_module_version": "1.2.0",
            "bar_color": null,
            "_model_module": "@jupyter-widgets/controls"
          }
        },
        "f9adfdd892ad414f86db6bdb71670248": {
          "model_module": "@jupyter-widgets/base",
          "model_name": "LayoutModel",
          "state": {
            "_view_name": "LayoutView",
            "grid_template_rows": null,
            "right": null,
            "justify_content": null,
            "_view_module": "@jupyter-widgets/base",
            "overflow": null,
            "_model_module_version": "1.2.0",
            "_view_count": null,
            "flex_flow": null,
            "width": null,
            "min_width": null,
            "border": null,
            "align_items": null,
            "bottom": null,
            "_model_module": "@jupyter-widgets/base",
            "top": null,
            "grid_column": null,
            "overflow_y": null,
            "overflow_x": null,
            "grid_auto_flow": null,
            "grid_area": null,
            "grid_template_columns": null,
            "flex": null,
            "_model_name": "LayoutModel",
            "justify_items": null,
            "grid_row": null,
            "max_height": null,
            "align_content": null,
            "visibility": null,
            "align_self": null,
            "height": null,
            "min_height": null,
            "padding": null,
            "grid_auto_rows": null,
            "grid_gap": null,
            "max_width": null,
            "order": null,
            "_view_module_version": "1.2.0",
            "grid_template_areas": null,
            "object_position": null,
            "object_fit": null,
            "grid_auto_columns": null,
            "margin": null,
            "display": null,
            "left": null
          }
        },
        "61cfc4fe31eb458399d128231a0a0c74": {
          "model_module": "@jupyter-widgets/controls",
          "model_name": "DescriptionStyleModel",
          "state": {
            "_view_name": "StyleView",
            "_model_name": "DescriptionStyleModel",
            "description_width": "",
            "_view_module": "@jupyter-widgets/base",
            "_model_module_version": "1.5.0",
            "_view_count": null,
            "_view_module_version": "1.2.0",
            "_model_module": "@jupyter-widgets/controls"
          }
        },
        "bb7b000a386f4fdcbfae987553f89e47": {
          "model_module": "@jupyter-widgets/base",
          "model_name": "LayoutModel",
          "state": {
            "_view_name": "LayoutView",
            "grid_template_rows": null,
            "right": null,
            "justify_content": null,
            "_view_module": "@jupyter-widgets/base",
            "overflow": null,
            "_model_module_version": "1.2.0",
            "_view_count": null,
            "flex_flow": null,
            "width": null,
            "min_width": null,
            "border": null,
            "align_items": null,
            "bottom": null,
            "_model_module": "@jupyter-widgets/base",
            "top": null,
            "grid_column": null,
            "overflow_y": null,
            "overflow_x": null,
            "grid_auto_flow": null,
            "grid_area": null,
            "grid_template_columns": null,
            "flex": null,
            "_model_name": "LayoutModel",
            "justify_items": null,
            "grid_row": null,
            "max_height": null,
            "align_content": null,
            "visibility": null,
            "align_self": null,
            "height": null,
            "min_height": null,
            "padding": null,
            "grid_auto_rows": null,
            "grid_gap": null,
            "max_width": null,
            "order": null,
            "_view_module_version": "1.2.0",
            "grid_template_areas": null,
            "object_position": null,
            "object_fit": null,
            "grid_auto_columns": null,
            "margin": null,
            "display": null,
            "left": null
          }
        },
        "dfb54c4da9e540c39fbffad4bd793220": {
          "model_module": "@jupyter-widgets/controls",
          "model_name": "HBoxModel",
          "state": {
            "_view_name": "HBoxView",
            "_dom_classes": [],
            "_model_name": "HBoxModel",
            "_view_module": "@jupyter-widgets/controls",
            "_model_module_version": "1.5.0",
            "_view_count": null,
            "_view_module_version": "1.5.0",
            "box_style": "",
            "layout": "IPY_MODEL_96135c16a4b349cb8a6ea663241752e8",
            "_model_module": "@jupyter-widgets/controls",
            "children": [
              "IPY_MODEL_c9bf42c96b2b4df09ed9541fa6ac45d5",
              "IPY_MODEL_b70c58185253473eb26f58fc64813954"
            ]
          }
        },
        "96135c16a4b349cb8a6ea663241752e8": {
          "model_module": "@jupyter-widgets/base",
          "model_name": "LayoutModel",
          "state": {
            "_view_name": "LayoutView",
            "grid_template_rows": null,
            "right": null,
            "justify_content": null,
            "_view_module": "@jupyter-widgets/base",
            "overflow": null,
            "_model_module_version": "1.2.0",
            "_view_count": null,
            "flex_flow": null,
            "width": null,
            "min_width": null,
            "border": null,
            "align_items": null,
            "bottom": null,
            "_model_module": "@jupyter-widgets/base",
            "top": null,
            "grid_column": null,
            "overflow_y": null,
            "overflow_x": null,
            "grid_auto_flow": null,
            "grid_area": null,
            "grid_template_columns": null,
            "flex": null,
            "_model_name": "LayoutModel",
            "justify_items": null,
            "grid_row": null,
            "max_height": null,
            "align_content": null,
            "visibility": null,
            "align_self": null,
            "height": null,
            "min_height": null,
            "padding": null,
            "grid_auto_rows": null,
            "grid_gap": null,
            "max_width": null,
            "order": null,
            "_view_module_version": "1.2.0",
            "grid_template_areas": null,
            "object_position": null,
            "object_fit": null,
            "grid_auto_columns": null,
            "margin": null,
            "display": null,
            "left": null
          }
        },
        "c9bf42c96b2b4df09ed9541fa6ac45d5": {
          "model_module": "@jupyter-widgets/controls",
          "model_name": "FloatProgressModel",
          "state": {
            "_view_name": "ProgressView",
            "style": "IPY_MODEL_a232e6bc1c674f798b450af49e0d5e66",
            "_dom_classes": [],
            "description": "Downloading: 100%",
            "_model_name": "FloatProgressModel",
            "bar_style": "success",
            "max": 1355863,
            "_view_module": "@jupyter-widgets/controls",
            "_model_module_version": "1.5.0",
            "value": 1355863,
            "_view_count": null,
            "_view_module_version": "1.5.0",
            "orientation": "horizontal",
            "min": 0,
            "description_tooltip": null,
            "_model_module": "@jupyter-widgets/controls",
            "layout": "IPY_MODEL_6302d12025c840188a76bcd16fab8399"
          }
        },
        "b70c58185253473eb26f58fc64813954": {
          "model_module": "@jupyter-widgets/controls",
          "model_name": "HTMLModel",
          "state": {
            "_view_name": "HTMLView",
            "style": "IPY_MODEL_4548b7036acb4986b155a82786dbfe8c",
            "_dom_classes": [],
            "description": "",
            "_model_name": "HTMLModel",
            "placeholder": "​",
            "_view_module": "@jupyter-widgets/controls",
            "_model_module_version": "1.5.0",
            "value": " 1.36M/1.36M [00:00&lt;00:00, 3.09MB/s]",
            "_view_count": null,
            "_view_module_version": "1.5.0",
            "description_tooltip": null,
            "_model_module": "@jupyter-widgets/controls",
            "layout": "IPY_MODEL_4546b29d82f74aa6859af72dc4d3ca14"
          }
        },
        "a232e6bc1c674f798b450af49e0d5e66": {
          "model_module": "@jupyter-widgets/controls",
          "model_name": "ProgressStyleModel",
          "state": {
            "_view_name": "StyleView",
            "_model_name": "ProgressStyleModel",
            "description_width": "initial",
            "_view_module": "@jupyter-widgets/base",
            "_model_module_version": "1.5.0",
            "_view_count": null,
            "_view_module_version": "1.2.0",
            "bar_color": null,
            "_model_module": "@jupyter-widgets/controls"
          }
        },
        "6302d12025c840188a76bcd16fab8399": {
          "model_module": "@jupyter-widgets/base",
          "model_name": "LayoutModel",
          "state": {
            "_view_name": "LayoutView",
            "grid_template_rows": null,
            "right": null,
            "justify_content": null,
            "_view_module": "@jupyter-widgets/base",
            "overflow": null,
            "_model_module_version": "1.2.0",
            "_view_count": null,
            "flex_flow": null,
            "width": null,
            "min_width": null,
            "border": null,
            "align_items": null,
            "bottom": null,
            "_model_module": "@jupyter-widgets/base",
            "top": null,
            "grid_column": null,
            "overflow_y": null,
            "overflow_x": null,
            "grid_auto_flow": null,
            "grid_area": null,
            "grid_template_columns": null,
            "flex": null,
            "_model_name": "LayoutModel",
            "justify_items": null,
            "grid_row": null,
            "max_height": null,
            "align_content": null,
            "visibility": null,
            "align_self": null,
            "height": null,
            "min_height": null,
            "padding": null,
            "grid_auto_rows": null,
            "grid_gap": null,
            "max_width": null,
            "order": null,
            "_view_module_version": "1.2.0",
            "grid_template_areas": null,
            "object_position": null,
            "object_fit": null,
            "grid_auto_columns": null,
            "margin": null,
            "display": null,
            "left": null
          }
        },
        "4548b7036acb4986b155a82786dbfe8c": {
          "model_module": "@jupyter-widgets/controls",
          "model_name": "DescriptionStyleModel",
          "state": {
            "_view_name": "StyleView",
            "_model_name": "DescriptionStyleModel",
            "description_width": "",
            "_view_module": "@jupyter-widgets/base",
            "_model_module_version": "1.5.0",
            "_view_count": null,
            "_view_module_version": "1.2.0",
            "_model_module": "@jupyter-widgets/controls"
          }
        },
        "4546b29d82f74aa6859af72dc4d3ca14": {
          "model_module": "@jupyter-widgets/base",
          "model_name": "LayoutModel",
          "state": {
            "_view_name": "LayoutView",
            "grid_template_rows": null,
            "right": null,
            "justify_content": null,
            "_view_module": "@jupyter-widgets/base",
            "overflow": null,
            "_model_module_version": "1.2.0",
            "_view_count": null,
            "flex_flow": null,
            "width": null,
            "min_width": null,
            "border": null,
            "align_items": null,
            "bottom": null,
            "_model_module": "@jupyter-widgets/base",
            "top": null,
            "grid_column": null,
            "overflow_y": null,
            "overflow_x": null,
            "grid_auto_flow": null,
            "grid_area": null,
            "grid_template_columns": null,
            "flex": null,
            "_model_name": "LayoutModel",
            "justify_items": null,
            "grid_row": null,
            "max_height": null,
            "align_content": null,
            "visibility": null,
            "align_self": null,
            "height": null,
            "min_height": null,
            "padding": null,
            "grid_auto_rows": null,
            "grid_gap": null,
            "max_width": null,
            "order": null,
            "_view_module_version": "1.2.0",
            "grid_template_areas": null,
            "object_position": null,
            "object_fit": null,
            "grid_auto_columns": null,
            "margin": null,
            "display": null,
            "left": null
          }
        },
        "8fda6181d38e44bb81a3116db94a88b6": {
          "model_module": "@jupyter-widgets/controls",
          "model_name": "HBoxModel",
          "state": {
            "_view_name": "HBoxView",
            "_dom_classes": [],
            "_model_name": "HBoxModel",
            "_view_module": "@jupyter-widgets/controls",
            "_model_module_version": "1.5.0",
            "_view_count": null,
            "_view_module_version": "1.5.0",
            "box_style": "",
            "layout": "IPY_MODEL_6fa80dc149e3407a9ad62f865c8ea8a3",
            "_model_module": "@jupyter-widgets/controls",
            "children": [
              "IPY_MODEL_03eadde2d25640dca4b31ee210347ddc",
              "IPY_MODEL_5b623ef1e4724cf0a4e27261a8d7ccd1"
            ]
          }
        },
        "6fa80dc149e3407a9ad62f865c8ea8a3": {
          "model_module": "@jupyter-widgets/base",
          "model_name": "LayoutModel",
          "state": {
            "_view_name": "LayoutView",
            "grid_template_rows": null,
            "right": null,
            "justify_content": null,
            "_view_module": "@jupyter-widgets/base",
            "overflow": null,
            "_model_module_version": "1.2.0",
            "_view_count": null,
            "flex_flow": null,
            "width": null,
            "min_width": null,
            "border": null,
            "align_items": null,
            "bottom": null,
            "_model_module": "@jupyter-widgets/base",
            "top": null,
            "grid_column": null,
            "overflow_y": null,
            "overflow_x": null,
            "grid_auto_flow": null,
            "grid_area": null,
            "grid_template_columns": null,
            "flex": null,
            "_model_name": "LayoutModel",
            "justify_items": null,
            "grid_row": null,
            "max_height": null,
            "align_content": null,
            "visibility": null,
            "align_self": null,
            "height": null,
            "min_height": null,
            "padding": null,
            "grid_auto_rows": null,
            "grid_gap": null,
            "max_width": null,
            "order": null,
            "_view_module_version": "1.2.0",
            "grid_template_areas": null,
            "object_position": null,
            "object_fit": null,
            "grid_auto_columns": null,
            "margin": null,
            "display": null,
            "left": null
          }
        },
        "03eadde2d25640dca4b31ee210347ddc": {
          "model_module": "@jupyter-widgets/controls",
          "model_name": "FloatProgressModel",
          "state": {
            "_view_name": "ProgressView",
            "style": "IPY_MODEL_baaa8bc3e6344904af3e0f649f119800",
            "_dom_classes": [],
            "description": "Downloading: 100%",
            "_model_name": "FloatProgressModel",
            "bar_style": "success",
            "max": 570,
            "_view_module": "@jupyter-widgets/controls",
            "_model_module_version": "1.5.0",
            "value": 570,
            "_view_count": null,
            "_view_module_version": "1.5.0",
            "orientation": "horizontal",
            "min": 0,
            "description_tooltip": null,
            "_model_module": "@jupyter-widgets/controls",
            "layout": "IPY_MODEL_2f8732c0d6014c8eb15cba3464882d29"
          }
        },
        "5b623ef1e4724cf0a4e27261a8d7ccd1": {
          "model_module": "@jupyter-widgets/controls",
          "model_name": "HTMLModel",
          "state": {
            "_view_name": "HTMLView",
            "style": "IPY_MODEL_9413b94111cf41faa09bc8a4a7c50207",
            "_dom_classes": [],
            "description": "",
            "_model_name": "HTMLModel",
            "placeholder": "​",
            "_view_module": "@jupyter-widgets/controls",
            "_model_module_version": "1.5.0",
            "value": " 570/570 [00:18&lt;00:00, 30.2B/s]",
            "_view_count": null,
            "_view_module_version": "1.5.0",
            "description_tooltip": null,
            "_model_module": "@jupyter-widgets/controls",
            "layout": "IPY_MODEL_10bf00d86843474bbaf54e2871095fe1"
          }
        },
        "baaa8bc3e6344904af3e0f649f119800": {
          "model_module": "@jupyter-widgets/controls",
          "model_name": "ProgressStyleModel",
          "state": {
            "_view_name": "StyleView",
            "_model_name": "ProgressStyleModel",
            "description_width": "initial",
            "_view_module": "@jupyter-widgets/base",
            "_model_module_version": "1.5.0",
            "_view_count": null,
            "_view_module_version": "1.2.0",
            "bar_color": null,
            "_model_module": "@jupyter-widgets/controls"
          }
        },
        "2f8732c0d6014c8eb15cba3464882d29": {
          "model_module": "@jupyter-widgets/base",
          "model_name": "LayoutModel",
          "state": {
            "_view_name": "LayoutView",
            "grid_template_rows": null,
            "right": null,
            "justify_content": null,
            "_view_module": "@jupyter-widgets/base",
            "overflow": null,
            "_model_module_version": "1.2.0",
            "_view_count": null,
            "flex_flow": null,
            "width": null,
            "min_width": null,
            "border": null,
            "align_items": null,
            "bottom": null,
            "_model_module": "@jupyter-widgets/base",
            "top": null,
            "grid_column": null,
            "overflow_y": null,
            "overflow_x": null,
            "grid_auto_flow": null,
            "grid_area": null,
            "grid_template_columns": null,
            "flex": null,
            "_model_name": "LayoutModel",
            "justify_items": null,
            "grid_row": null,
            "max_height": null,
            "align_content": null,
            "visibility": null,
            "align_self": null,
            "height": null,
            "min_height": null,
            "padding": null,
            "grid_auto_rows": null,
            "grid_gap": null,
            "max_width": null,
            "order": null,
            "_view_module_version": "1.2.0",
            "grid_template_areas": null,
            "object_position": null,
            "object_fit": null,
            "grid_auto_columns": null,
            "margin": null,
            "display": null,
            "left": null
          }
        },
        "9413b94111cf41faa09bc8a4a7c50207": {
          "model_module": "@jupyter-widgets/controls",
          "model_name": "DescriptionStyleModel",
          "state": {
            "_view_name": "StyleView",
            "_model_name": "DescriptionStyleModel",
            "description_width": "",
            "_view_module": "@jupyter-widgets/base",
            "_model_module_version": "1.5.0",
            "_view_count": null,
            "_view_module_version": "1.2.0",
            "_model_module": "@jupyter-widgets/controls"
          }
        },
        "10bf00d86843474bbaf54e2871095fe1": {
          "model_module": "@jupyter-widgets/base",
          "model_name": "LayoutModel",
          "state": {
            "_view_name": "LayoutView",
            "grid_template_rows": null,
            "right": null,
            "justify_content": null,
            "_view_module": "@jupyter-widgets/base",
            "overflow": null,
            "_model_module_version": "1.2.0",
            "_view_count": null,
            "flex_flow": null,
            "width": null,
            "min_width": null,
            "border": null,
            "align_items": null,
            "bottom": null,
            "_model_module": "@jupyter-widgets/base",
            "top": null,
            "grid_column": null,
            "overflow_y": null,
            "overflow_x": null,
            "grid_auto_flow": null,
            "grid_area": null,
            "grid_template_columns": null,
            "flex": null,
            "_model_name": "LayoutModel",
            "justify_items": null,
            "grid_row": null,
            "max_height": null,
            "align_content": null,
            "visibility": null,
            "align_self": null,
            "height": null,
            "min_height": null,
            "padding": null,
            "grid_auto_rows": null,
            "grid_gap": null,
            "max_width": null,
            "order": null,
            "_view_module_version": "1.2.0",
            "grid_template_areas": null,
            "object_position": null,
            "object_fit": null,
            "grid_auto_columns": null,
            "margin": null,
            "display": null,
            "left": null
          }
        },
        "b247e6477786483da5788b287ee3646d": {
          "model_module": "@jupyter-widgets/controls",
          "model_name": "HBoxModel",
          "state": {
            "_view_name": "HBoxView",
            "_dom_classes": [],
            "_model_name": "HBoxModel",
            "_view_module": "@jupyter-widgets/controls",
            "_model_module_version": "1.5.0",
            "_view_count": null,
            "_view_module_version": "1.5.0",
            "box_style": "",
            "layout": "IPY_MODEL_f5b4ac32215f446a975cbbeeb3f078a7",
            "_model_module": "@jupyter-widgets/controls",
            "children": [
              "IPY_MODEL_617ea2ca372e4649aa36a05191466329",
              "IPY_MODEL_2af7fada3ce047d28c6f2ce5d5990f3a"
            ]
          }
        },
        "f5b4ac32215f446a975cbbeeb3f078a7": {
          "model_module": "@jupyter-widgets/base",
          "model_name": "LayoutModel",
          "state": {
            "_view_name": "LayoutView",
            "grid_template_rows": null,
            "right": null,
            "justify_content": null,
            "_view_module": "@jupyter-widgets/base",
            "overflow": null,
            "_model_module_version": "1.2.0",
            "_view_count": null,
            "flex_flow": null,
            "width": null,
            "min_width": null,
            "border": null,
            "align_items": null,
            "bottom": null,
            "_model_module": "@jupyter-widgets/base",
            "top": null,
            "grid_column": null,
            "overflow_y": null,
            "overflow_x": null,
            "grid_auto_flow": null,
            "grid_area": null,
            "grid_template_columns": null,
            "flex": null,
            "_model_name": "LayoutModel",
            "justify_items": null,
            "grid_row": null,
            "max_height": null,
            "align_content": null,
            "visibility": null,
            "align_self": null,
            "height": null,
            "min_height": null,
            "padding": null,
            "grid_auto_rows": null,
            "grid_gap": null,
            "max_width": null,
            "order": null,
            "_view_module_version": "1.2.0",
            "grid_template_areas": null,
            "object_position": null,
            "object_fit": null,
            "grid_auto_columns": null,
            "margin": null,
            "display": null,
            "left": null
          }
        },
        "617ea2ca372e4649aa36a05191466329": {
          "model_module": "@jupyter-widgets/controls",
          "model_name": "FloatProgressModel",
          "state": {
            "_view_name": "ProgressView",
            "style": "IPY_MODEL_f87e1e01d5db49cf9af29267a3bec1be",
            "_dom_classes": [],
            "description": "Downloading: 100%",
            "_model_name": "FloatProgressModel",
            "bar_style": "success",
            "max": 536063208,
            "_view_module": "@jupyter-widgets/controls",
            "_model_module_version": "1.5.0",
            "value": 536063208,
            "_view_count": null,
            "_view_module_version": "1.5.0",
            "orientation": "horizontal",
            "min": 0,
            "description_tooltip": null,
            "_model_module": "@jupyter-widgets/controls",
            "layout": "IPY_MODEL_7538de234a9443d98173e56187ca52c3"
          }
        },
        "2af7fada3ce047d28c6f2ce5d5990f3a": {
          "model_module": "@jupyter-widgets/controls",
          "model_name": "HTMLModel",
          "state": {
            "_view_name": "HTMLView",
            "style": "IPY_MODEL_6fd9a48077004ff58b71ee3aafd3fd80",
            "_dom_classes": [],
            "description": "",
            "_model_name": "HTMLModel",
            "placeholder": "​",
            "_view_module": "@jupyter-widgets/controls",
            "_model_module_version": "1.5.0",
            "value": " 536M/536M [00:18&lt;00:00, 29.1MB/s]",
            "_view_count": null,
            "_view_module_version": "1.5.0",
            "description_tooltip": null,
            "_model_module": "@jupyter-widgets/controls",
            "layout": "IPY_MODEL_340a7fcd715d40e3bc56f415897c99df"
          }
        },
        "f87e1e01d5db49cf9af29267a3bec1be": {
          "model_module": "@jupyter-widgets/controls",
          "model_name": "ProgressStyleModel",
          "state": {
            "_view_name": "StyleView",
            "_model_name": "ProgressStyleModel",
            "description_width": "initial",
            "_view_module": "@jupyter-widgets/base",
            "_model_module_version": "1.5.0",
            "_view_count": null,
            "_view_module_version": "1.2.0",
            "bar_color": null,
            "_model_module": "@jupyter-widgets/controls"
          }
        },
        "7538de234a9443d98173e56187ca52c3": {
          "model_module": "@jupyter-widgets/base",
          "model_name": "LayoutModel",
          "state": {
            "_view_name": "LayoutView",
            "grid_template_rows": null,
            "right": null,
            "justify_content": null,
            "_view_module": "@jupyter-widgets/base",
            "overflow": null,
            "_model_module_version": "1.2.0",
            "_view_count": null,
            "flex_flow": null,
            "width": null,
            "min_width": null,
            "border": null,
            "align_items": null,
            "bottom": null,
            "_model_module": "@jupyter-widgets/base",
            "top": null,
            "grid_column": null,
            "overflow_y": null,
            "overflow_x": null,
            "grid_auto_flow": null,
            "grid_area": null,
            "grid_template_columns": null,
            "flex": null,
            "_model_name": "LayoutModel",
            "justify_items": null,
            "grid_row": null,
            "max_height": null,
            "align_content": null,
            "visibility": null,
            "align_self": null,
            "height": null,
            "min_height": null,
            "padding": null,
            "grid_auto_rows": null,
            "grid_gap": null,
            "max_width": null,
            "order": null,
            "_view_module_version": "1.2.0",
            "grid_template_areas": null,
            "object_position": null,
            "object_fit": null,
            "grid_auto_columns": null,
            "margin": null,
            "display": null,
            "left": null
          }
        },
        "6fd9a48077004ff58b71ee3aafd3fd80": {
          "model_module": "@jupyter-widgets/controls",
          "model_name": "DescriptionStyleModel",
          "state": {
            "_view_name": "StyleView",
            "_model_name": "DescriptionStyleModel",
            "description_width": "",
            "_view_module": "@jupyter-widgets/base",
            "_model_module_version": "1.5.0",
            "_view_count": null,
            "_view_module_version": "1.2.0",
            "_model_module": "@jupyter-widgets/controls"
          }
        },
        "340a7fcd715d40e3bc56f415897c99df": {
          "model_module": "@jupyter-widgets/base",
          "model_name": "LayoutModel",
          "state": {
            "_view_name": "LayoutView",
            "grid_template_rows": null,
            "right": null,
            "justify_content": null,
            "_view_module": "@jupyter-widgets/base",
            "overflow": null,
            "_model_module_version": "1.2.0",
            "_view_count": null,
            "flex_flow": null,
            "width": null,
            "min_width": null,
            "border": null,
            "align_items": null,
            "bottom": null,
            "_model_module": "@jupyter-widgets/base",
            "top": null,
            "grid_column": null,
            "overflow_y": null,
            "overflow_x": null,
            "grid_auto_flow": null,
            "grid_area": null,
            "grid_template_columns": null,
            "flex": null,
            "_model_name": "LayoutModel",
            "justify_items": null,
            "grid_row": null,
            "max_height": null,
            "align_content": null,
            "visibility": null,
            "align_self": null,
            "height": null,
            "min_height": null,
            "padding": null,
            "grid_auto_rows": null,
            "grid_gap": null,
            "max_width": null,
            "order": null,
            "_view_module_version": "1.2.0",
            "grid_template_areas": null,
            "object_position": null,
            "object_fit": null,
            "grid_auto_columns": null,
            "margin": null,
            "display": null,
            "left": null
          }
        }
      }
    }
  },
  "cells": [
    {
      "cell_type": "code",
      "metadata": {
        "colab": {
          "base_uri": "https://localhost:8080/"
        },
        "id": "0-CGVbexIK7l",
        "outputId": "993ab8f7-4b33-493f-cebd-211b1d06dd5f"
      },
      "source": [
        "import pandas as pd\n",
        "import tensorflow as tf\n",
        "from sklearn.metrics import f1_score\n",
        "from sklearn.model_selection import train_test_split\n",
        "import tensorflow_datasets as tfds\n",
        "!pip install transformers\n",
        "from transformers import TFRobertaForSequenceClassification\n",
        "from transformers import RobertaTokenizer\n"
      ],
      "execution_count": null,
      "outputs": [
        {
          "output_type": "stream",
          "text": [
            "Collecting transformers\n",
            "\u001b[?25l  Downloading https://files.pythonhosted.org/packages/d8/b2/57495b5309f09fa501866e225c84532d1fd89536ea62406b2181933fb418/transformers-4.5.1-py3-none-any.whl (2.1MB)\n",
            "\u001b[K     |████████████████████████████████| 2.1MB 9.1MB/s \n",
            "\u001b[?25hCollecting sacremoses\n",
            "\u001b[?25l  Downloading https://files.pythonhosted.org/packages/75/ee/67241dc87f266093c533a2d4d3d69438e57d7a90abb216fa076e7d475d4a/sacremoses-0.0.45-py3-none-any.whl (895kB)\n",
            "\u001b[K     |████████████████████████████████| 901kB 51.6MB/s \n",
            "\u001b[?25hRequirement already satisfied: importlib-metadata; python_version < \"3.8\" in /usr/local/lib/python3.7/dist-packages (from transformers) (3.10.1)\n",
            "Requirement already satisfied: requests in /usr/local/lib/python3.7/dist-packages (from transformers) (2.23.0)\n",
            "Requirement already satisfied: numpy>=1.17 in /usr/local/lib/python3.7/dist-packages (from transformers) (1.19.5)\n",
            "Requirement already satisfied: filelock in /usr/local/lib/python3.7/dist-packages (from transformers) (3.0.12)\n",
            "Requirement already satisfied: regex!=2019.12.17 in /usr/local/lib/python3.7/dist-packages (from transformers) (2019.12.20)\n",
            "Requirement already satisfied: tqdm>=4.27 in /usr/local/lib/python3.7/dist-packages (from transformers) (4.41.1)\n",
            "Collecting tokenizers<0.11,>=0.10.1\n",
            "\u001b[?25l  Downloading https://files.pythonhosted.org/packages/ae/04/5b870f26a858552025a62f1649c20d29d2672c02ff3c3fb4c688ca46467a/tokenizers-0.10.2-cp37-cp37m-manylinux2010_x86_64.whl (3.3MB)\n",
            "\u001b[K     |████████████████████████████████| 3.3MB 55.9MB/s \n",
            "\u001b[?25hRequirement already satisfied: packaging in /usr/local/lib/python3.7/dist-packages (from transformers) (20.9)\n",
            "Requirement already satisfied: joblib in /usr/local/lib/python3.7/dist-packages (from sacremoses->transformers) (1.0.1)\n",
            "Requirement already satisfied: six in /usr/local/lib/python3.7/dist-packages (from sacremoses->transformers) (1.15.0)\n",
            "Requirement already satisfied: click in /usr/local/lib/python3.7/dist-packages (from sacremoses->transformers) (7.1.2)\n",
            "Requirement already satisfied: zipp>=0.5 in /usr/local/lib/python3.7/dist-packages (from importlib-metadata; python_version < \"3.8\"->transformers) (3.4.1)\n",
            "Requirement already satisfied: typing-extensions>=3.6.4; python_version < \"3.8\" in /usr/local/lib/python3.7/dist-packages (from importlib-metadata; python_version < \"3.8\"->transformers) (3.7.4.3)\n",
            "Requirement already satisfied: certifi>=2017.4.17 in /usr/local/lib/python3.7/dist-packages (from requests->transformers) (2020.12.5)\n",
            "Requirement already satisfied: idna<3,>=2.5 in /usr/local/lib/python3.7/dist-packages (from requests->transformers) (2.10)\n",
            "Requirement already satisfied: chardet<4,>=3.0.2 in /usr/local/lib/python3.7/dist-packages (from requests->transformers) (3.0.4)\n",
            "Requirement already satisfied: urllib3!=1.25.0,!=1.25.1,<1.26,>=1.21.1 in /usr/local/lib/python3.7/dist-packages (from requests->transformers) (1.24.3)\n",
            "Requirement already satisfied: pyparsing>=2.0.2 in /usr/local/lib/python3.7/dist-packages (from packaging->transformers) (2.4.7)\n",
            "Installing collected packages: sacremoses, tokenizers, transformers\n",
            "Successfully installed sacremoses-0.0.45 tokenizers-0.10.2 transformers-4.5.1\n"
          ],
          "name": "stdout"
        }
      ]
    },
    {
      "cell_type": "code",
      "metadata": {
        "colab": {
          "base_uri": "https://localhost:8080/"
        },
        "id": "h6wv6SpN07r0",
        "outputId": "80edecc2-2a14-42db-d62f-b5c7a8871586"
      },
      "source": [
        "from google.colab import drive\n",
        "drive.mount('/content/drive')"
      ],
      "execution_count": null,
      "outputs": [
        {
          "output_type": "stream",
          "text": [
            "Mounted at /content/drive\n"
          ],
          "name": "stdout"
        }
      ]
    },
    {
      "cell_type": "code",
      "metadata": {
        "colab": {
          "base_uri": "https://localhost:8080/"
        },
        "id": "lvZysXM1I1L9",
        "outputId": "301fe6ea-168e-41be-b7a2-4aea6ba449f4"
      },
      "source": [
        "df = pd.read_csv(\"drive/MyDrive/Explo/self_labelled_data.csv\", header=0, names=['Tweets', 'Label'])\n",
        "print(df.head())"
      ],
      "execution_count": null,
      "outputs": [
        {
          "output_type": "stream",
          "text": [
            "                                              Tweets  Label\n",
            "0  मुम्बई डोंगरी रास्ते नमाज़ पढ़कर कोरोना भगाते ...      1\n",
            "1  कोरोना हराना हैलॉक डाउन क्यों ज़रूरी केजीएमयू ...      1\n",
            "2  सब समझते समझ सब काम कीया कोरोना वायरस जैविक बम...      1\n",
            "3  कोरोना वायरस युद्ध बड़ा संकट मानकर पूरी क्षमता...      1\n",
            "4  “ अप्रेल मोदी जी बजे मिनट दीपक जलाने संदेश दीप...      1\n"
          ],
          "name": "stdout"
        }
      ]
    },
    {
      "cell_type": "code",
      "metadata": {
        "id": "E_JefvWaJELi"
      },
      "source": [
        "df.Label = pd.Categorical(df.Label)\n",
        "df['Label'] = df['Label'].cat.codes\n",
        "df = df.dropna()"
      ],
      "execution_count": null,
      "outputs": []
    },
    {
      "cell_type": "code",
      "metadata": {
        "id": "AOurWm4eJH_m"
      },
      "source": [
        "from sklearn.model_selection import train_test_split\n",
        "train_tweets, test_tweets = train_test_split(df, random_state=91)"
      ],
      "execution_count": null,
      "outputs": []
    },
    {
      "cell_type": "code",
      "metadata": {
        "id": "xmBanZFuJP_9",
        "colab": {
          "base_uri": "https://localhost:8080/",
          "height": 163,
          "referenced_widgets": [
            "d87548ee73174b448b3d19ff6b01d583",
            "ea6c3bea25c44fcaba17121eec00fe42",
            "1006ade3d0c34213a231bc895d5b6e42",
            "aec5b94f96b94bf3a6f34a83323ac583",
            "cd2f4e1894db482087388ed9bd72615a",
            "765432b21e7a4a458f38c6e692dacf7a",
            "b8aff13f4a704e9a8b39e5651b023752",
            "4fb069f4ac084837b79fbb0e9cf29f6b",
            "361d840fb3184eadbf75109f5059cbe6",
            "e8ff3b4f0d624a8b98f324e3d6d8e67a",
            "9bb2a8acb8bf43f18a33f87a9cca138f",
            "203aa964504e4fecbe759ef5c56e1258",
            "484ec864b2c44570a37702980c0b909a",
            "f9adfdd892ad414f86db6bdb71670248",
            "61cfc4fe31eb458399d128231a0a0c74",
            "bb7b000a386f4fdcbfae987553f89e47",
            "dfb54c4da9e540c39fbffad4bd793220",
            "96135c16a4b349cb8a6ea663241752e8",
            "c9bf42c96b2b4df09ed9541fa6ac45d5",
            "b70c58185253473eb26f58fc64813954",
            "a232e6bc1c674f798b450af49e0d5e66",
            "6302d12025c840188a76bcd16fab8399",
            "4548b7036acb4986b155a82786dbfe8c",
            "4546b29d82f74aa6859af72dc4d3ca14"
          ]
        },
        "outputId": "c2d5eea8-9fec-4668-82ab-41b31a6ad3d2"
      },
      "source": [
        "roberta_tokenizer = RobertaTokenizer.from_pretrained(\"roberta-base\")\n",
        "max_length = 128\n",
        "batch_size = 32"
      ],
      "execution_count": null,
      "outputs": [
        {
          "output_type": "display_data",
          "data": {
            "application/vnd.jupyter.widget-view+json": {
              "model_id": "d87548ee73174b448b3d19ff6b01d583",
              "version_minor": 0,
              "version_major": 2
            },
            "text/plain": [
              "HBox(children=(FloatProgress(value=0.0, description='Downloading', max=898823.0, style=ProgressStyle(descripti…"
            ]
          },
          "metadata": {
            "tags": []
          }
        },
        {
          "output_type": "stream",
          "text": [
            "\n"
          ],
          "name": "stdout"
        },
        {
          "output_type": "display_data",
          "data": {
            "application/vnd.jupyter.widget-view+json": {
              "model_id": "361d840fb3184eadbf75109f5059cbe6",
              "version_minor": 0,
              "version_major": 2
            },
            "text/plain": [
              "HBox(children=(FloatProgress(value=0.0, description='Downloading', max=456318.0, style=ProgressStyle(descripti…"
            ]
          },
          "metadata": {
            "tags": []
          }
        },
        {
          "output_type": "stream",
          "text": [
            "\n"
          ],
          "name": "stdout"
        },
        {
          "output_type": "display_data",
          "data": {
            "application/vnd.jupyter.widget-view+json": {
              "model_id": "dfb54c4da9e540c39fbffad4bd793220",
              "version_minor": 0,
              "version_major": 2
            },
            "text/plain": [
              "HBox(children=(FloatProgress(value=0.0, description='Downloading', max=1355863.0, style=ProgressStyle(descript…"
            ]
          },
          "metadata": {
            "tags": []
          }
        },
        {
          "output_type": "stream",
          "text": [
            "\n"
          ],
          "name": "stdout"
        }
      ]
    },
    {
      "cell_type": "code",
      "metadata": {
        "id": "nwjDFvDfJUeU"
      },
      "source": [
        "def convert_example_to_feature(review):\n",
        "    return roberta_tokenizer.encode_plus(review,\n",
        "                                 add_special_tokens=True,  \n",
        "                                 max_length=max_length,  \n",
        "                                 pad_to_max_length=True,  \n",
        "                                 return_attention_mask=True,  \n",
        "                                 )\n"
      ],
      "execution_count": null,
      "outputs": []
    },
    {
      "cell_type": "code",
      "metadata": {
        "id": "vgtkmarKKm9_"
      },
      "source": [
        "\n",
        "def map_example_to_dict(input_ids, attention_masks, label):\n",
        "    return {\n",
        "      \"input_ids\": input_ids,\n",
        "      \"attention_mask\": attention_masks,\n",
        "           }, label\n"
      ],
      "execution_count": null,
      "outputs": []
    },
    {
      "cell_type": "code",
      "metadata": {
        "id": "z4c_dWPIKtPL"
      },
      "source": [
        "def encode_examples(ds, limit=-1):\n",
        "    input_ids_list = []\n",
        "    attention_mask_list = []\n",
        "    label_list = []\n",
        "\n",
        "    if (limit > 0):\n",
        "        ds = ds.take(limit)\n",
        "\n",
        "    for review, label in tfds.as_numpy(ds):\n",
        "        bert_input = convert_example_to_feature(review.decode())\n",
        "        input_ids_list.append(bert_input['input_ids'])\n",
        "        attention_mask_list.append(bert_input['attention_mask'])\n",
        "        label_list.append([label])\n",
        "\n",
        "    return tf.data.Dataset.from_tensor_slices((input_ids_list,\n",
        "                                               attention_mask_list,\n",
        "                                               label_list)).map(map_example_to_dict)"
      ],
      "execution_count": null,
      "outputs": []
    },
    {
      "cell_type": "code",
      "metadata": {
        "id": "8TmSwWmPKv1X"
      },
      "source": [
        "training_sentences_modified = tf.data.Dataset.from_tensor_slices((train_tweets['Tweets'],\n",
        "                                                                  train_tweets['Label']))\n",
        "\n",
        "testing_sentences_modified = tf.data.Dataset.from_tensor_slices((test_tweets['Tweets'],\n",
        "                                                                 test_tweets['Label']))\n"
      ],
      "execution_count": null,
      "outputs": []
    },
    {
      "cell_type": "code",
      "metadata": {
        "colab": {
          "base_uri": "https://localhost:8080/"
        },
        "id": "yaivIhhsLXyJ",
        "outputId": "32482900-093e-4e38-907a-f6a17382ab61"
      },
      "source": [
        "\n",
        "ds_train_encoded = encode_examples(training_sentences_modified).shuffle(1000).batch(batch_size)\n",
        "ds_test_encoded = encode_examples(testing_sentences_modified).batch(batch_size)"
      ],
      "execution_count": null,
      "outputs": [
        {
          "output_type": "stream",
          "text": [
            "Truncation was not explicitly activated but `max_length` is provided a specific value, please use `truncation=True` to explicitly truncate examples to max length. Defaulting to 'longest_first' truncation strategy. If you encode pairs of sequences (GLUE-style) with the tokenizer you can select this strategy more precisely by providing a specific strategy to `truncation`.\n",
            "/usr/local/lib/python3.7/dist-packages/transformers/tokenization_utils_base.py:2079: FutureWarning: The `pad_to_max_length` argument is deprecated and will be removed in a future version, use `padding=True` or `padding='longest'` to pad to the longest sequence in the batch, or use `padding='max_length'` to pad to a max length. In this case, you can give a specific length with `max_length` (e.g. `max_length=45`) or leave max_length to None to pad to the maximal input size of the model (e.g. 512 for Bert).\n",
            "  FutureWarning,\n"
          ],
          "name": "stderr"
        }
      ]
    },
    {
      "cell_type": "code",
      "metadata": {
        "id": "7si2yXXXL2Yu"
      },
      "source": [
        "learning_rate = 2e-5\n",
        "number_of_epochs = 100"
      ],
      "execution_count": null,
      "outputs": []
    },
    {
      "cell_type": "code",
      "metadata": {
        "colab": {
          "base_uri": "https://localhost:8080/",
          "height": 182,
          "referenced_widgets": [
            "8fda6181d38e44bb81a3116db94a88b6",
            "6fa80dc149e3407a9ad62f865c8ea8a3",
            "03eadde2d25640dca4b31ee210347ddc",
            "5b623ef1e4724cf0a4e27261a8d7ccd1",
            "baaa8bc3e6344904af3e0f649f119800",
            "2f8732c0d6014c8eb15cba3464882d29",
            "9413b94111cf41faa09bc8a4a7c50207",
            "10bf00d86843474bbaf54e2871095fe1",
            "b247e6477786483da5788b287ee3646d",
            "f5b4ac32215f446a975cbbeeb3f078a7",
            "617ea2ca372e4649aa36a05191466329",
            "2af7fada3ce047d28c6f2ce5d5990f3a",
            "f87e1e01d5db49cf9af29267a3bec1be",
            "7538de234a9443d98173e56187ca52c3",
            "6fd9a48077004ff58b71ee3aafd3fd80",
            "340a7fcd715d40e3bc56f415897c99df"
          ]
        },
        "id": "7-pMj8ZKNeKH",
        "outputId": "5282b027-37cb-4cbe-a8c8-95b1f5794550"
      },
      "source": [
        "from transformers import TFBertForSequenceClassification\n",
        "import tensorflow as tf\n",
        "model = TFBertForSequenceClassification.from_pretrained('bert-base-uncased')\n",
        "optimizer = tf.keras.optimizers.Adam(learning_rate=learning_rate, epsilon=1e-08)\n",
        "loss = tf.keras.losses.SparseCategoricalCrossentropy(from_logits=True)\n",
        "metric = tf.keras.metrics.SparseCategoricalAccuracy('accuracy')"
      ],
      "execution_count": null,
      "outputs": [
        {
          "output_type": "display_data",
          "data": {
            "application/vnd.jupyter.widget-view+json": {
              "model_id": "8fda6181d38e44bb81a3116db94a88b6",
              "version_minor": 0,
              "version_major": 2
            },
            "text/plain": [
              "HBox(children=(FloatProgress(value=0.0, description='Downloading', max=570.0, style=ProgressStyle(description_…"
            ]
          },
          "metadata": {
            "tags": []
          }
        },
        {
          "output_type": "stream",
          "text": [
            "\n"
          ],
          "name": "stdout"
        },
        {
          "output_type": "display_data",
          "data": {
            "application/vnd.jupyter.widget-view+json": {
              "model_id": "b247e6477786483da5788b287ee3646d",
              "version_minor": 0,
              "version_major": 2
            },
            "text/plain": [
              "HBox(children=(FloatProgress(value=0.0, description='Downloading', max=536063208.0, style=ProgressStyle(descri…"
            ]
          },
          "metadata": {
            "tags": []
          }
        },
        {
          "output_type": "stream",
          "text": [
            "\n"
          ],
          "name": "stdout"
        },
        {
          "output_type": "stream",
          "text": [
            "All model checkpoint layers were used when initializing TFBertForSequenceClassification.\n",
            "\n",
            "Some layers of TFBertForSequenceClassification were not initialized from the model checkpoint at bert-base-uncased and are newly initialized: ['classifier']\n",
            "You should probably TRAIN this model on a down-stream task to be able to use it for predictions and inference.\n"
          ],
          "name": "stderr"
        }
      ]
    },
    {
      "cell_type": "code",
      "metadata": {
        "id": "JXktIB3-jhbK"
      },
      "source": [
        "from keras import backend as K\n",
        "\n",
        "def recall_m(y_true, y_pred):\n",
        "\n",
        "    true_positives = K.sum(K.round(K.clip(y_true * y_pred, 0, 1)))\n",
        "    possible_positives = K.sum(K.round(K.clip(y_true, 0, 1)))\n",
        "    recall = true_positives / (possible_positives + K.epsilon())\n",
        "    return recall\n",
        "\n",
        "def precision_m(y_true, y_pred):\n",
        "    true_positives = K.sum(K.round(K.clip(y_true * y_pred, 0, 1)))\n",
        "    predicted_positives = K.sum(K.round(K.clip(y_pred, 0, 1)))\n",
        "    precision = true_positives / (predicted_positives + K.epsilon())\n",
        "    return precision\n",
        "\n",
        "def f1_m(y_true, y_pred):\n",
        "    precision = precision_m(y_true, y_pred)\n",
        "    recall = recall_m(y_true, y_pred)\n",
        "    return 2*((precision*recall)/(precision+recall+K.epsilon()))\n",
        "\n",
        "\n"
      ],
      "execution_count": null,
      "outputs": []
    },
    {
      "cell_type": "code",
      "metadata": {
        "colab": {
          "base_uri": "https://localhost:8080/"
        },
        "id": "2Wh30Prh_Mub",
        "outputId": "7c4b5ba5-40f9-440d-b961-2afce438650d"
      },
      "source": [
        "# compile the model\n",
        "model.compile(optimizer=optimizer, loss=loss, metrics=['acc',f1_m,precision_m, recall_m])\n",
        "\n",
        "\n",
        "# fit the model\n",
        "bert_history= model.fit(ds_train_encoded, epochs=number_of_epochs, validation_data=ds_test_encoded)"
      ],
      "execution_count": null,
      "outputs": [
        {
          "output_type": "stream",
          "text": [
            "Epoch 1/100\n",
            "WARNING:tensorflow:The parameters `output_attentions`, `output_hidden_states` and `use_cache` cannot be updated when calling a model.They have to be set to True/False in the config object (i.e.: `config=XConfig.from_pretrained('name', output_attentions=True)`).\n",
            "WARNING:tensorflow:AutoGraph could not transform <bound method Socket.send of <zmq.sugar.socket.Socket object at 0x7fed28173d00>> and will run it as-is.\n",
            "Please report this to the TensorFlow team. When filing the bug, set the verbosity to 10 (on Linux, `export AUTOGRAPH_VERBOSITY=10`) and attach the full output.\n",
            "Cause: module, class, method, function, traceback, frame, or code object was expected, got cython_function_or_method\n",
            "To silence this warning, decorate the function with @tf.autograph.experimental.do_not_convert\n",
            "WARNING: AutoGraph could not transform <bound method Socket.send of <zmq.sugar.socket.Socket object at 0x7fed28173d00>> and will run it as-is.\n",
            "Please report this to the TensorFlow team. When filing the bug, set the verbosity to 10 (on Linux, `export AUTOGRAPH_VERBOSITY=10`) and attach the full output.\n",
            "Cause: module, class, method, function, traceback, frame, or code object was expected, got cython_function_or_method\n",
            "To silence this warning, decorate the function with @tf.autograph.experimental.do_not_convert\n",
            "WARNING:tensorflow:AutoGraph could not transform <function wrap at 0x7fed43a20d40> and will run it as-is.\n",
            "Cause: while/else statement not yet supported\n",
            "To silence this warning, decorate the function with @tf.autograph.experimental.do_not_convert\n",
            "WARNING: AutoGraph could not transform <function wrap at 0x7fed43a20d40> and will run it as-is.\n",
            "Cause: while/else statement not yet supported\n",
            "To silence this warning, decorate the function with @tf.autograph.experimental.do_not_convert\n",
            "WARNING:tensorflow:The parameter `return_dict` cannot be set in graph mode and will always be set to `True`.\n",
            "WARNING:tensorflow:The parameters `output_attentions`, `output_hidden_states` and `use_cache` cannot be updated when calling a model.They have to be set to True/False in the config object (i.e.: `config=XConfig.from_pretrained('name', output_attentions=True)`).\n",
            "WARNING:tensorflow:The parameter `return_dict` cannot be set in graph mode and will always be set to `True`.\n",
            "106/106 [==============================] - ETA: 0s - loss: 0.6285 - acc: 0.6726 - f1_m: 0.0598 - precision_m: 0.1770 - recall_m: 0.0436WARNING:tensorflow:The parameters `output_attentions`, `output_hidden_states` and `use_cache` cannot be updated when calling a model.They have to be set to True/False in the config object (i.e.: `config=XConfig.from_pretrained('name', output_attentions=True)`).\n",
            "WARNING:tensorflow:The parameter `return_dict` cannot be set in graph mode and will always be set to `True`.\n",
            "106/106 [==============================] - 142s 882ms/step - loss: 0.6284 - acc: 0.6726 - f1_m: 0.0600 - precision_m: 0.1769 - recall_m: 0.0439 - val_loss: 0.6109 - val_acc: 0.6969 - val_f1_m: 0.0000e+00 - val_precision_m: 0.0000e+00 - val_recall_m: 0.0000e+00\n",
            "Epoch 2/100\n",
            "106/106 [==============================] - 93s 879ms/step - loss: 0.6146 - acc: 0.6703 - f1_m: 0.2317 - precision_m: 0.2536 - recall_m: 0.3266 - val_loss: 0.5726 - val_acc: 0.7182 - val_f1_m: 0.2572 - val_precision_m: 0.2018 - val_recall_m: 0.3878\n",
            "Epoch 3/100\n",
            "106/106 [==============================] - 93s 878ms/step - loss: 0.5803 - acc: 0.7023 - f1_m: 0.1412 - precision_m: 0.1429 - recall_m: 0.1925 - val_loss: 0.5498 - val_acc: 0.7200 - val_f1_m: 0.2141 - val_precision_m: 0.1714 - val_recall_m: 0.3146\n",
            "Epoch 4/100\n",
            "106/106 [==============================] - 93s 880ms/step - loss: 0.5411 - acc: 0.7323 - f1_m: 0.1434 - precision_m: 0.1333 - recall_m: 0.1713 - val_loss: 0.5659 - val_acc: 0.7191 - val_f1_m: 0.2381 - val_precision_m: 0.1825 - val_recall_m: 0.3777\n",
            "Epoch 5/100\n",
            "106/106 [==============================] - 93s 878ms/step - loss: 0.5103 - acc: 0.7423 - f1_m: 0.1221 - precision_m: 0.1028 - recall_m: 0.1609 - val_loss: 0.5553 - val_acc: 0.6844 - val_f1_m: 0.0944 - val_precision_m: 0.1046 - val_recall_m: 0.1013\n",
            "Epoch 6/100\n",
            "106/106 [==============================] - 93s 878ms/step - loss: 0.4640 - acc: 0.7839 - f1_m: 0.1518 - precision_m: 0.1255 - recall_m: 0.2096 - val_loss: 0.5056 - val_acc: 0.7396 - val_f1_m: 0.1054 - val_precision_m: 0.0987 - val_recall_m: 0.1226\n",
            "Epoch 7/100\n",
            "106/106 [==============================] - 93s 878ms/step - loss: 0.4189 - acc: 0.8168 - f1_m: 0.2066 - precision_m: 0.1616 - recall_m: 0.3131 - val_loss: 0.5499 - val_acc: 0.7387 - val_f1_m: 0.3099 - val_precision_m: 0.2318 - val_recall_m: 0.4999\n",
            "Epoch 8/100\n",
            "106/106 [==============================] - 93s 878ms/step - loss: 0.3749 - acc: 0.8379 - f1_m: 0.3529 - precision_m: 0.2563 - recall_m: 0.5987 - val_loss: 0.5343 - val_acc: 0.7484 - val_f1_m: 0.3315 - val_precision_m: 0.2440 - val_recall_m: 0.5462\n",
            "Epoch 9/100\n",
            "106/106 [==============================] - 93s 879ms/step - loss: 0.3864 - acc: 0.8326 - f1_m: 0.3431 - precision_m: 0.2505 - recall_m: 0.5794 - val_loss: 0.5940 - val_acc: 0.7529 - val_f1_m: 0.3486 - val_precision_m: 0.2532 - val_recall_m: 0.6084\n",
            "Epoch 10/100\n",
            "106/106 [==============================] - 93s 879ms/step - loss: 0.3071 - acc: 0.8800 - f1_m: 0.3781 - precision_m: 0.2657 - recall_m: 0.7023 - val_loss: 0.6058 - val_acc: 0.7369 - val_f1_m: 0.3556 - val_precision_m: 0.2546 - val_recall_m: 0.6308\n",
            "Epoch 11/100\n",
            "106/106 [==============================] - 93s 879ms/step - loss: 0.2791 - acc: 0.8941 - f1_m: 0.3800 - precision_m: 0.2638 - recall_m: 0.7142 - val_loss: 0.6928 - val_acc: 0.7476 - val_f1_m: 0.3999 - val_precision_m: 0.2773 - val_recall_m: 0.7592\n",
            "Epoch 12/100\n",
            "106/106 [==============================] - 93s 879ms/step - loss: 0.2580 - acc: 0.9010 - f1_m: 0.3982 - precision_m: 0.2763 - recall_m: 0.7657 - val_loss: 0.7239 - val_acc: 0.7413 - val_f1_m: 0.4185 - val_precision_m: 0.2908 - val_recall_m: 0.7949\n",
            "Epoch 13/100\n",
            "106/106 [==============================] - 93s 880ms/step - loss: 0.2366 - acc: 0.9062 - f1_m: 0.4372 - precision_m: 0.3019 - recall_m: 0.8377 - val_loss: 0.7245 - val_acc: 0.7564 - val_f1_m: 0.4100 - val_precision_m: 0.2863 - val_recall_m: 0.7738\n",
            "Epoch 14/100\n",
            "106/106 [==============================] - 93s 880ms/step - loss: 0.2001 - acc: 0.9320 - f1_m: 0.4121 - precision_m: 0.2786 - recall_m: 0.8273 - val_loss: 0.8462 - val_acc: 0.7342 - val_f1_m: 0.4257 - val_precision_m: 0.2929 - val_recall_m: 0.8177\n",
            "Epoch 15/100\n",
            "106/106 [==============================] - 93s 879ms/step - loss: 0.1744 - acc: 0.9396 - f1_m: 0.4365 - precision_m: 0.2957 - recall_m: 0.8809 - val_loss: 0.7807 - val_acc: 0.7413 - val_f1_m: 0.4104 - val_precision_m: 0.2867 - val_recall_m: 0.7708\n",
            "Epoch 16/100\n",
            "106/106 [==============================] - 93s 880ms/step - loss: 0.1605 - acc: 0.9386 - f1_m: 0.4216 - precision_m: 0.2847 - recall_m: 0.8422 - val_loss: 0.8301 - val_acc: 0.7351 - val_f1_m: 0.3998 - val_precision_m: 0.2792 - val_recall_m: 0.7544\n",
            "Epoch 17/100\n",
            "106/106 [==============================] - 93s 880ms/step - loss: 0.1534 - acc: 0.9507 - f1_m: 0.4543 - precision_m: 0.3100 - recall_m: 0.8997 - val_loss: 0.9154 - val_acc: 0.7280 - val_f1_m: 0.4272 - val_precision_m: 0.2914 - val_recall_m: 0.8493\n",
            "Epoch 18/100\n",
            "106/106 [==============================] - 93s 879ms/step - loss: 0.1395 - acc: 0.9567 - f1_m: 0.4452 - precision_m: 0.2979 - recall_m: 0.9204 - val_loss: 0.8987 - val_acc: 0.7333 - val_f1_m: 0.4376 - val_precision_m: 0.3024 - val_recall_m: 0.8409\n",
            "Epoch 19/100\n",
            "106/106 [==============================] - 93s 880ms/step - loss: 0.1353 - acc: 0.9488 - f1_m: 0.4493 - precision_m: 0.3054 - recall_m: 0.8916 - val_loss: 0.9366 - val_acc: 0.7502 - val_f1_m: 0.4229 - val_precision_m: 0.2900 - val_recall_m: 0.8360\n",
            "Epoch 20/100\n",
            "106/106 [==============================] - 93s 880ms/step - loss: 0.1186 - acc: 0.9636 - f1_m: 0.4717 - precision_m: 0.3202 - recall_m: 0.9358 - val_loss: 0.9707 - val_acc: 0.7333 - val_f1_m: 0.4263 - val_precision_m: 0.2910 - val_recall_m: 0.8430\n",
            "Epoch 21/100\n",
            "106/106 [==============================] - 93s 880ms/step - loss: 0.1239 - acc: 0.9632 - f1_m: 0.4542 - precision_m: 0.3048 - recall_m: 0.9462 - val_loss: 0.9675 - val_acc: 0.7458 - val_f1_m: 0.4448 - val_precision_m: 0.2996 - val_recall_m: 0.9130\n",
            "Epoch 22/100\n",
            "106/106 [==============================] - 93s 880ms/step - loss: 0.1293 - acc: 0.9642 - f1_m: 0.4559 - precision_m: 0.3062 - recall_m: 0.9422 - val_loss: 1.0091 - val_acc: 0.7298 - val_f1_m: 0.4222 - val_precision_m: 0.2909 - val_recall_m: 0.8162\n",
            "Epoch 23/100\n",
            "106/106 [==============================] - 93s 879ms/step - loss: 0.1032 - acc: 0.9625 - f1_m: 0.4482 - precision_m: 0.3001 - recall_m: 0.9358 - val_loss: 0.9274 - val_acc: 0.7324 - val_f1_m: 0.4052 - val_precision_m: 0.2824 - val_recall_m: 0.7523\n",
            "Epoch 24/100\n",
            "106/106 [==============================] - 93s 878ms/step - loss: 0.1157 - acc: 0.9577 - f1_m: 0.4588 - precision_m: 0.3123 - recall_m: 0.9236 - val_loss: 1.0749 - val_acc: 0.7342 - val_f1_m: 0.4303 - val_precision_m: 0.2971 - val_recall_m: 0.8316\n",
            "Epoch 25/100\n",
            "106/106 [==============================] - 93s 879ms/step - loss: 0.1124 - acc: 0.9670 - f1_m: 0.4443 - precision_m: 0.2978 - recall_m: 0.9076 - val_loss: 1.0909 - val_acc: 0.7351 - val_f1_m: 0.4210 - val_precision_m: 0.2892 - val_recall_m: 0.8300\n",
            "Epoch 26/100\n",
            "106/106 [==============================] - 93s 879ms/step - loss: 0.0987 - acc: 0.9638 - f1_m: 0.4608 - precision_m: 0.3118 - recall_m: 0.9408 - val_loss: 1.0696 - val_acc: 0.7422 - val_f1_m: 0.4480 - val_precision_m: 0.3060 - val_recall_m: 0.8811\n",
            "Epoch 27/100\n",
            "106/106 [==============================] - 93s 880ms/step - loss: 0.0787 - acc: 0.9736 - f1_m: 0.4718 - precision_m: 0.3183 - recall_m: 0.9631 - val_loss: 1.1187 - val_acc: 0.7244 - val_f1_m: 0.4379 - val_precision_m: 0.3005 - val_recall_m: 0.8447\n",
            "Epoch 28/100\n",
            "106/106 [==============================] - 93s 879ms/step - loss: 0.0780 - acc: 0.9728 - f1_m: 0.4509 - precision_m: 0.3030 - recall_m: 0.9345 - val_loss: 0.8764 - val_acc: 0.7431 - val_f1_m: 0.4182 - val_precision_m: 0.2906 - val_recall_m: 0.7915\n",
            "Epoch 29/100\n",
            "106/106 [==============================] - 93s 879ms/step - loss: 0.0630 - acc: 0.9775 - f1_m: 0.4505 - precision_m: 0.2998 - recall_m: 0.9423 - val_loss: 0.9748 - val_acc: 0.7449 - val_f1_m: 0.4163 - val_precision_m: 0.2856 - val_recall_m: 0.8110\n",
            "Epoch 30/100\n",
            "106/106 [==============================] - 93s 879ms/step - loss: 0.0589 - acc: 0.9765 - f1_m: 0.4355 - precision_m: 0.2891 - recall_m: 0.9340 - val_loss: 1.2104 - val_acc: 0.7289 - val_f1_m: 0.4272 - val_precision_m: 0.2931 - val_recall_m: 0.8372\n",
            "Epoch 31/100\n",
            "106/106 [==============================] - 93s 879ms/step - loss: 0.0809 - acc: 0.9711 - f1_m: 0.4687 - precision_m: 0.3169 - recall_m: 0.9399 - val_loss: 1.2449 - val_acc: 0.7387 - val_f1_m: 0.4451 - val_precision_m: 0.3012 - val_recall_m: 0.8947\n",
            "Epoch 32/100\n",
            "106/106 [==============================] - 93s 879ms/step - loss: 0.0428 - acc: 0.9842 - f1_m: 0.4590 - precision_m: 0.3089 - recall_m: 0.9520 - val_loss: 1.2052 - val_acc: 0.7316 - val_f1_m: 0.4296 - val_precision_m: 0.2956 - val_recall_m: 0.8371\n",
            "Epoch 33/100\n",
            "106/106 [==============================] - 93s 879ms/step - loss: 0.0716 - acc: 0.9714 - f1_m: 0.4532 - precision_m: 0.3071 - recall_m: 0.9168 - val_loss: 1.1335 - val_acc: 0.7289 - val_f1_m: 0.4305 - val_precision_m: 0.2968 - val_recall_m: 0.8357\n",
            "Epoch 34/100\n",
            "106/106 [==============================] - 93s 880ms/step - loss: 0.0541 - acc: 0.9789 - f1_m: 0.4376 - precision_m: 0.2927 - recall_m: 0.9198 - val_loss: 1.2012 - val_acc: 0.7458 - val_f1_m: 0.4332 - val_precision_m: 0.2977 - val_recall_m: 0.8471\n",
            "Epoch 35/100\n",
            "106/106 [==============================] - 93s 879ms/step - loss: 0.0449 - acc: 0.9817 - f1_m: 0.4442 - precision_m: 0.2969 - recall_m: 0.9484 - val_loss: 1.1326 - val_acc: 0.7316 - val_f1_m: 0.4200 - val_precision_m: 0.2885 - val_recall_m: 0.8097\n",
            "Epoch 36/100\n",
            "106/106 [==============================] - 93s 880ms/step - loss: 0.0434 - acc: 0.9834 - f1_m: 0.4499 - precision_m: 0.3006 - recall_m: 0.9435 - val_loss: 1.5061 - val_acc: 0.7289 - val_f1_m: 0.4486 - val_precision_m: 0.3040 - val_recall_m: 0.9169\n",
            "Epoch 37/100\n",
            "106/106 [==============================] - 93s 880ms/step - loss: 0.0469 - acc: 0.9790 - f1_m: 0.4651 - precision_m: 0.3143 - recall_m: 0.9506 - val_loss: 1.2022 - val_acc: 0.7467 - val_f1_m: 0.4327 - val_precision_m: 0.2936 - val_recall_m: 0.8651\n",
            "Epoch 38/100\n",
            "106/106 [==============================] - 93s 880ms/step - loss: 0.0524 - acc: 0.9804 - f1_m: 0.4541 - precision_m: 0.3057 - recall_m: 0.9470 - val_loss: 1.2840 - val_acc: 0.7200 - val_f1_m: 0.4434 - val_precision_m: 0.2998 - val_recall_m: 0.8972\n",
            "Epoch 39/100\n",
            "106/106 [==============================] - 93s 879ms/step - loss: 0.0744 - acc: 0.9711 - f1_m: 0.4603 - precision_m: 0.3104 - recall_m: 0.9324 - val_loss: 1.1196 - val_acc: 0.7413 - val_f1_m: 0.4374 - val_precision_m: 0.2980 - val_recall_m: 0.8775\n",
            "Epoch 40/100\n",
            "106/106 [==============================] - 93s 880ms/step - loss: 0.0462 - acc: 0.9790 - f1_m: 0.4717 - precision_m: 0.3204 - recall_m: 0.9499 - val_loss: 1.4847 - val_acc: 0.7244 - val_f1_m: 0.4549 - val_precision_m: 0.3074 - val_recall_m: 0.9225\n",
            "Epoch 41/100\n",
            "106/106 [==============================] - 93s 880ms/step - loss: 0.0841 - acc: 0.9764 - f1_m: 0.4480 - precision_m: 0.3015 - recall_m: 0.9481 - val_loss: 1.0812 - val_acc: 0.7396 - val_f1_m: 0.4400 - val_precision_m: 0.2968 - val_recall_m: 0.8941\n",
            "Epoch 42/100\n",
            "106/106 [==============================] - 93s 879ms/step - loss: 0.0672 - acc: 0.9772 - f1_m: 0.4532 - precision_m: 0.3005 - recall_m: 0.9645 - val_loss: 1.3210 - val_acc: 0.7440 - val_f1_m: 0.4379 - val_precision_m: 0.2965 - val_recall_m: 0.8807\n",
            "Epoch 43/100\n",
            "106/106 [==============================] - 93s 879ms/step - loss: 0.0693 - acc: 0.9714 - f1_m: 0.4520 - precision_m: 0.3018 - recall_m: 0.9342 - val_loss: 1.4112 - val_acc: 0.7342 - val_f1_m: 0.4561 - val_precision_m: 0.3078 - val_recall_m: 0.9260\n",
            "Epoch 44/100\n",
            "106/106 [==============================] - 93s 879ms/step - loss: 0.0539 - acc: 0.9837 - f1_m: 0.4640 - precision_m: 0.3099 - recall_m: 0.9648 - val_loss: 1.2800 - val_acc: 0.7324 - val_f1_m: 0.4373 - val_precision_m: 0.3006 - val_recall_m: 0.8427\n",
            "Epoch 45/100\n",
            "106/106 [==============================] - 93s 879ms/step - loss: 0.0416 - acc: 0.9830 - f1_m: 0.4582 - precision_m: 0.3075 - recall_m: 0.9493 - val_loss: 1.2617 - val_acc: 0.7298 - val_f1_m: 0.4322 - val_precision_m: 0.2933 - val_recall_m: 0.8674\n",
            "Epoch 46/100\n",
            "106/106 [==============================] - 93s 879ms/step - loss: 0.0371 - acc: 0.9851 - f1_m: 0.4535 - precision_m: 0.3022 - recall_m: 0.9556 - val_loss: 1.1950 - val_acc: 0.7209 - val_f1_m: 0.4465 - val_precision_m: 0.3054 - val_recall_m: 0.8841\n",
            "Epoch 47/100\n",
            "106/106 [==============================] - 93s 879ms/step - loss: 0.0409 - acc: 0.9843 - f1_m: 0.4647 - precision_m: 0.3105 - recall_m: 0.9716 - val_loss: 1.2418 - val_acc: 0.7387 - val_f1_m: 0.4301 - val_precision_m: 0.2919 - val_recall_m: 0.8584\n",
            "Epoch 48/100\n",
            "106/106 [==============================] - 93s 879ms/step - loss: 0.0283 - acc: 0.9880 - f1_m: 0.4578 - precision_m: 0.3063 - recall_m: 0.9606 - val_loss: 1.5160 - val_acc: 0.7404 - val_f1_m: 0.4473 - val_precision_m: 0.3021 - val_recall_m: 0.9023\n",
            "Epoch 49/100\n",
            "106/106 [==============================] - 93s 879ms/step - loss: 0.0323 - acc: 0.9839 - f1_m: 0.4739 - precision_m: 0.3190 - recall_m: 0.9738 - val_loss: 1.2566 - val_acc: 0.7324 - val_f1_m: 0.4189 - val_precision_m: 0.2917 - val_recall_m: 0.7903\n",
            "Epoch 50/100\n",
            "106/106 [==============================] - 93s 881ms/step - loss: 0.0301 - acc: 0.9871 - f1_m: 0.4684 - precision_m: 0.3157 - recall_m: 0.9577 - val_loss: 1.4646 - val_acc: 0.7369 - val_f1_m: 0.4384 - val_precision_m: 0.2989 - val_recall_m: 0.8751\n",
            "Epoch 51/100\n",
            "106/106 [==============================] - 93s 881ms/step - loss: 0.0379 - acc: 0.9855 - f1_m: 0.4550 - precision_m: 0.3039 - recall_m: 0.9673 - val_loss: 1.3629 - val_acc: 0.7440 - val_f1_m: 0.4358 - val_precision_m: 0.2953 - val_recall_m: 0.8740\n",
            "Epoch 52/100\n",
            "106/106 [==============================] - 93s 881ms/step - loss: 0.0345 - acc: 0.9853 - f1_m: 0.4509 - precision_m: 0.3011 - recall_m: 0.9521 - val_loss: 1.6577 - val_acc: 0.7342 - val_f1_m: 0.4419 - val_precision_m: 0.2981 - val_recall_m: 0.8957\n",
            "Epoch 53/100\n",
            "106/106 [==============================] - 93s 879ms/step - loss: 0.0308 - acc: 0.9846 - f1_m: 0.4672 - precision_m: 0.3120 - recall_m: 0.9691 - val_loss: 1.6947 - val_acc: 0.7369 - val_f1_m: 0.4537 - val_precision_m: 0.3049 - val_recall_m: 0.9363\n",
            "Epoch 54/100\n",
            "106/106 [==============================] - 93s 880ms/step - loss: 0.0272 - acc: 0.9882 - f1_m: 0.4592 - precision_m: 0.3047 - recall_m: 0.9726 - val_loss: 1.4424 - val_acc: 0.7387 - val_f1_m: 0.4547 - val_precision_m: 0.3084 - val_recall_m: 0.9277\n",
            "Epoch 55/100\n",
            "106/106 [==============================] - 93s 881ms/step - loss: 0.0211 - acc: 0.9916 - f1_m: 0.4617 - precision_m: 0.3084 - recall_m: 0.9725 - val_loss: 1.4236 - val_acc: 0.7404 - val_f1_m: 0.4262 - val_precision_m: 0.2908 - val_recall_m: 0.8346\n",
            "Epoch 56/100\n",
            "106/106 [==============================] - 93s 879ms/step - loss: 0.0420 - acc: 0.9818 - f1_m: 0.4555 - precision_m: 0.3053 - recall_m: 0.9422 - val_loss: 1.3380 - val_acc: 0.7413 - val_f1_m: 0.4293 - val_precision_m: 0.2913 - val_recall_m: 0.8594\n",
            "Epoch 57/100\n",
            "106/106 [==============================] - 93s 879ms/step - loss: 0.0276 - acc: 0.9858 - f1_m: 0.4648 - precision_m: 0.3106 - recall_m: 0.9662 - val_loss: 1.4776 - val_acc: 0.7458 - val_f1_m: 0.4330 - val_precision_m: 0.2935 - val_recall_m: 0.8678\n",
            "Epoch 58/100\n",
            "106/106 [==============================] - 93s 880ms/step - loss: 0.0309 - acc: 0.9871 - f1_m: 0.4613 - precision_m: 0.3082 - recall_m: 0.9658 - val_loss: 1.5821 - val_acc: 0.7351 - val_f1_m: 0.4355 - val_precision_m: 0.2951 - val_recall_m: 0.8781\n",
            "Epoch 59/100\n",
            "106/106 [==============================] - 93s 881ms/step - loss: 0.0329 - acc: 0.9870 - f1_m: 0.4594 - precision_m: 0.3064 - recall_m: 0.9574 - val_loss: 1.2857 - val_acc: 0.7440 - val_f1_m: 0.4318 - val_precision_m: 0.2933 - val_recall_m: 0.8628\n",
            "Epoch 60/100\n",
            "106/106 [==============================] - 93s 879ms/step - loss: 0.0439 - acc: 0.9836 - f1_m: 0.4599 - precision_m: 0.3067 - recall_m: 0.9670 - val_loss: 1.4351 - val_acc: 0.7404 - val_f1_m: 0.4427 - val_precision_m: 0.2974 - val_recall_m: 0.9126\n",
            "Epoch 61/100\n",
            "106/106 [==============================] - 93s 879ms/step - loss: 0.0518 - acc: 0.9788 - f1_m: 0.4720 - precision_m: 0.3178 - recall_m: 0.9635 - val_loss: 1.3853 - val_acc: 0.7484 - val_f1_m: 0.4324 - val_precision_m: 0.2938 - val_recall_m: 0.8628\n",
            "Epoch 62/100\n",
            "106/106 [==============================] - 93s 881ms/step - loss: 0.0388 - acc: 0.9811 - f1_m: 0.4570 - precision_m: 0.3055 - recall_m: 0.9578 - val_loss: 1.5289 - val_acc: 0.7476 - val_f1_m: 0.4513 - val_precision_m: 0.3046 - val_recall_m: 0.9197\n",
            "Epoch 63/100\n",
            "106/106 [==============================] - 93s 879ms/step - loss: 0.0282 - acc: 0.9854 - f1_m: 0.4612 - precision_m: 0.3103 - recall_m: 0.9620 - val_loss: 1.5718 - val_acc: 0.7369 - val_f1_m: 0.4451 - val_precision_m: 0.3005 - val_recall_m: 0.9058\n",
            "Epoch 64/100\n",
            "106/106 [==============================] - 93s 880ms/step - loss: 0.0308 - acc: 0.9888 - f1_m: 0.4646 - precision_m: 0.3095 - recall_m: 0.9677 - val_loss: 1.2402 - val_acc: 0.7431 - val_f1_m: 0.4529 - val_precision_m: 0.3041 - val_recall_m: 0.9306\n",
            "Epoch 65/100\n",
            "106/106 [==============================] - 93s 880ms/step - loss: 0.0343 - acc: 0.9854 - f1_m: 0.4623 - precision_m: 0.3088 - recall_m: 0.9669 - val_loss: 1.4215 - val_acc: 0.7404 - val_f1_m: 0.4455 - val_precision_m: 0.3001 - val_recall_m: 0.9099\n",
            "Epoch 66/100\n",
            "106/106 [==============================] - 93s 879ms/step - loss: 0.0233 - acc: 0.9892 - f1_m: 0.4679 - precision_m: 0.3128 - recall_m: 0.9687 - val_loss: 1.3687 - val_acc: 0.7440 - val_f1_m: 0.4316 - val_precision_m: 0.2942 - val_recall_m: 0.8534\n",
            "Epoch 67/100\n",
            "106/106 [==============================] - 93s 879ms/step - loss: 0.0376 - acc: 0.9859 - f1_m: 0.4664 - precision_m: 0.3121 - recall_m: 0.9735 - val_loss: 1.6500 - val_acc: 0.7084 - val_f1_m: 0.4384 - val_precision_m: 0.2960 - val_recall_m: 0.8899\n",
            "Epoch 68/100\n",
            "106/106 [==============================] - 93s 879ms/step - loss: 0.0265 - acc: 0.9848 - f1_m: 0.4693 - precision_m: 0.3135 - recall_m: 0.9662 - val_loss: 1.3110 - val_acc: 0.7467 - val_f1_m: 0.4181 - val_precision_m: 0.2881 - val_recall_m: 0.8097\n",
            "Epoch 69/100\n",
            "106/106 [==============================] - 93s 880ms/step - loss: 0.0375 - acc: 0.9842 - f1_m: 0.4628 - precision_m: 0.3096 - recall_m: 0.9625 - val_loss: 1.3057 - val_acc: 0.7316 - val_f1_m: 0.4172 - val_precision_m: 0.2839 - val_recall_m: 0.8300\n",
            "Epoch 70/100\n",
            "106/106 [==============================] - 93s 880ms/step - loss: 0.0525 - acc: 0.9836 - f1_m: 0.4617 - precision_m: 0.3060 - recall_m: 0.9728 - val_loss: 1.4631 - val_acc: 0.7138 - val_f1_m: 0.4648 - val_precision_m: 0.3125 - val_recall_m: 0.9519\n",
            "Epoch 71/100\n",
            "106/106 [==============================] - 93s 881ms/step - loss: 0.0502 - acc: 0.9783 - f1_m: 0.4521 - precision_m: 0.3021 - recall_m: 0.9515 - val_loss: 1.4368 - val_acc: 0.7396 - val_f1_m: 0.4373 - val_precision_m: 0.2957 - val_recall_m: 0.8834\n",
            "Epoch 72/100\n",
            "106/106 [==============================] - 93s 880ms/step - loss: 0.0245 - acc: 0.9868 - f1_m: 0.4566 - precision_m: 0.3065 - recall_m: 0.9637 - val_loss: 1.5812 - val_acc: 0.7324 - val_f1_m: 0.4519 - val_precision_m: 0.3042 - val_recall_m: 0.9256\n",
            "Epoch 73/100\n",
            "106/106 [==============================] - 93s 879ms/step - loss: 0.0210 - acc: 0.9867 - f1_m: 0.4551 - precision_m: 0.3031 - recall_m: 0.9605 - val_loss: 1.7683 - val_acc: 0.7422 - val_f1_m: 0.4575 - val_precision_m: 0.3069 - val_recall_m: 0.9485\n",
            "Epoch 74/100\n",
            "106/106 [==============================] - 93s 880ms/step - loss: 0.0235 - acc: 0.9894 - f1_m: 0.4576 - precision_m: 0.3054 - recall_m: 0.9743 - val_loss: 1.4478 - val_acc: 0.7467 - val_f1_m: 0.4397 - val_precision_m: 0.2974 - val_recall_m: 0.8841\n",
            "Epoch 75/100\n",
            "106/106 [==============================] - 93s 879ms/step - loss: 0.0310 - acc: 0.9855 - f1_m: 0.4435 - precision_m: 0.2936 - recall_m: 0.9467 - val_loss: 1.4231 - val_acc: 0.7244 - val_f1_m: 0.4423 - val_precision_m: 0.3005 - val_recall_m: 0.8796\n",
            "Epoch 76/100\n",
            "106/106 [==============================] - 93s 878ms/step - loss: 0.0368 - acc: 0.9843 - f1_m: 0.4601 - precision_m: 0.3080 - recall_m: 0.9556 - val_loss: 1.6899 - val_acc: 0.7476 - val_f1_m: 0.4591 - val_precision_m: 0.3111 - val_recall_m: 0.9346\n",
            "Epoch 77/100\n",
            "106/106 [==============================] - 93s 878ms/step - loss: 0.0260 - acc: 0.9870 - f1_m: 0.4527 - precision_m: 0.3018 - recall_m: 0.9531 - val_loss: 1.8085 - val_acc: 0.7431 - val_f1_m: 0.4466 - val_precision_m: 0.3008 - val_recall_m: 0.9137\n",
            "Epoch 78/100\n",
            "106/106 [==============================] - 93s 880ms/step - loss: 0.0283 - acc: 0.9854 - f1_m: 0.4718 - precision_m: 0.3177 - recall_m: 0.9577 - val_loss: 1.9003 - val_acc: 0.7262 - val_f1_m: 0.4514 - val_precision_m: 0.3029 - val_recall_m: 0.9333\n",
            "Epoch 79/100\n",
            "106/106 [==============================] - 93s 879ms/step - loss: 0.0205 - acc: 0.9874 - f1_m: 0.4596 - precision_m: 0.3056 - recall_m: 0.9728 - val_loss: 1.8840 - val_acc: 0.7316 - val_f1_m: 0.4558 - val_precision_m: 0.3091 - val_recall_m: 0.9286\n",
            "Epoch 80/100\n",
            "106/106 [==============================] - 93s 879ms/step - loss: 0.0136 - acc: 0.9940 - f1_m: 0.4704 - precision_m: 0.3142 - recall_m: 0.9737 - val_loss: 1.8297 - val_acc: 0.7422 - val_f1_m: 0.4531 - val_precision_m: 0.3039 - val_recall_m: 0.9409\n",
            "Epoch 81/100\n",
            "106/106 [==============================] - 93s 880ms/step - loss: 0.0337 - acc: 0.9868 - f1_m: 0.4602 - precision_m: 0.3075 - recall_m: 0.9583 - val_loss: 1.5536 - val_acc: 0.7298 - val_f1_m: 0.4529 - val_precision_m: 0.3069 - val_recall_m: 0.9071\n",
            "Epoch 82/100\n",
            "106/106 [==============================] - 93s 879ms/step - loss: 0.0310 - acc: 0.9846 - f1_m: 0.4573 - precision_m: 0.3039 - recall_m: 0.9652 - val_loss: 1.4827 - val_acc: 0.7209 - val_f1_m: 0.4453 - val_precision_m: 0.3056 - val_recall_m: 0.8701\n",
            "Epoch 83/100\n",
            "106/106 [==============================] - 93s 880ms/step - loss: 0.0337 - acc: 0.9833 - f1_m: 0.4600 - precision_m: 0.3098 - recall_m: 0.9547 - val_loss: 1.8747 - val_acc: 0.7413 - val_f1_m: 0.4457 - val_precision_m: 0.3003 - val_recall_m: 0.9122\n",
            "Epoch 84/100\n",
            "106/106 [==============================] - 93s 878ms/step - loss: 0.0255 - acc: 0.9908 - f1_m: 0.4585 - precision_m: 0.3052 - recall_m: 0.9700 - val_loss: 1.9496 - val_acc: 0.7298 - val_f1_m: 0.4610 - val_precision_m: 0.3094 - val_recall_m: 0.9530\n",
            "Epoch 85/100\n",
            "106/106 [==============================] - 93s 877ms/step - loss: 0.0174 - acc: 0.9928 - f1_m: 0.4541 - precision_m: 0.3003 - recall_m: 0.9775 - val_loss: 1.5916 - val_acc: 0.7289 - val_f1_m: 0.4584 - val_precision_m: 0.3090 - val_recall_m: 0.9318\n",
            "Epoch 86/100\n",
            "106/106 [==============================] - 93s 877ms/step - loss: 0.0185 - acc: 0.9906 - f1_m: 0.4624 - precision_m: 0.3081 - recall_m: 0.9761 - val_loss: 1.8173 - val_acc: 0.7333 - val_f1_m: 0.4526 - val_precision_m: 0.3047 - val_recall_m: 0.9277\n",
            "Epoch 87/100\n",
            "106/106 [==============================] - 93s 878ms/step - loss: 0.0415 - acc: 0.9838 - f1_m: 0.4652 - precision_m: 0.3112 - recall_m: 0.9587 - val_loss: 1.0760 - val_acc: 0.7067 - val_f1_m: 0.4413 - val_precision_m: 0.3018 - val_recall_m: 0.8679\n",
            "Epoch 88/100\n",
            "106/106 [==============================] - 93s 879ms/step - loss: 0.0349 - acc: 0.9850 - f1_m: 0.4570 - precision_m: 0.3033 - recall_m: 0.9663 - val_loss: 1.6116 - val_acc: 0.7387 - val_f1_m: 0.4502 - val_precision_m: 0.3034 - val_recall_m: 0.9192\n",
            "Epoch 89/100\n",
            "106/106 [==============================] - 93s 879ms/step - loss: 0.0505 - acc: 0.9827 - f1_m: 0.4695 - precision_m: 0.3152 - recall_m: 0.9650 - val_loss: 1.7061 - val_acc: 0.7218 - val_f1_m: 0.4597 - val_precision_m: 0.3114 - val_recall_m: 0.9362\n",
            "Epoch 90/100\n",
            "106/106 [==============================] - 93s 879ms/step - loss: 0.0273 - acc: 0.9875 - f1_m: 0.4550 - precision_m: 0.3036 - recall_m: 0.9610 - val_loss: 1.7023 - val_acc: 0.7271 - val_f1_m: 0.4652 - val_precision_m: 0.3110 - val_recall_m: 0.9706\n",
            "Epoch 91/100\n",
            "106/106 [==============================] - 93s 880ms/step - loss: 0.0337 - acc: 0.9834 - f1_m: 0.4617 - precision_m: 0.3071 - recall_m: 0.9599 - val_loss: 1.8433 - val_acc: 0.7324 - val_f1_m: 0.4577 - val_precision_m: 0.3063 - val_recall_m: 0.9541\n",
            "Epoch 92/100\n",
            "106/106 [==============================] - 93s 879ms/step - loss: 0.0327 - acc: 0.9844 - f1_m: 0.4650 - precision_m: 0.3115 - recall_m: 0.9665 - val_loss: 1.8575 - val_acc: 0.7360 - val_f1_m: 0.4552 - val_precision_m: 0.3052 - val_recall_m: 0.9420\n",
            "Epoch 93/100\n",
            "106/106 [==============================] - 93s 879ms/step - loss: 0.0240 - acc: 0.9870 - f1_m: 0.4590 - precision_m: 0.3067 - recall_m: 0.9695 - val_loss: 1.7229 - val_acc: 0.7378 - val_f1_m: 0.4503 - val_precision_m: 0.3042 - val_recall_m: 0.9169\n",
            "Epoch 94/100\n",
            "106/106 [==============================] - 93s 878ms/step - loss: 0.0213 - acc: 0.9895 - f1_m: 0.4697 - precision_m: 0.3173 - recall_m: 0.9635 - val_loss: 1.9359 - val_acc: 0.7164 - val_f1_m: 0.4577 - val_precision_m: 0.3083 - val_recall_m: 0.9321\n",
            "Epoch 95/100\n",
            "106/106 [==============================] - 93s 878ms/step - loss: 0.0627 - acc: 0.9808 - f1_m: 0.4651 - precision_m: 0.3111 - recall_m: 0.9678 - val_loss: 1.4362 - val_acc: 0.7289 - val_f1_m: 0.4535 - val_precision_m: 0.3058 - val_recall_m: 0.9220\n",
            "Epoch 96/100\n",
            "106/106 [==============================] - 93s 881ms/step - loss: 0.0314 - acc: 0.9850 - f1_m: 0.4665 - precision_m: 0.3108 - recall_m: 0.9699 - val_loss: 1.6062 - val_acc: 0.7422 - val_f1_m: 0.4622 - val_precision_m: 0.3096 - val_recall_m: 0.9594\n",
            "Epoch 97/100\n",
            "106/106 [==============================] - 93s 880ms/step - loss: 0.0483 - acc: 0.9792 - f1_m: 0.4524 - precision_m: 0.3014 - recall_m: 0.9594 - val_loss: 1.4045 - val_acc: 0.7396 - val_f1_m: 0.4369 - val_precision_m: 0.2969 - val_recall_m: 0.8719\n",
            "Epoch 98/100\n",
            "106/106 [==============================] - 93s 879ms/step - loss: 0.0223 - acc: 0.9891 - f1_m: 0.4583 - precision_m: 0.3048 - recall_m: 0.9671 - val_loss: 1.5612 - val_acc: 0.7440 - val_f1_m: 0.4477 - val_precision_m: 0.3038 - val_recall_m: 0.8970\n",
            "Epoch 99/100\n",
            "106/106 [==============================] - 93s 879ms/step - loss: 0.0293 - acc: 0.9889 - f1_m: 0.4526 - precision_m: 0.3013 - recall_m: 0.9634 - val_loss: 1.6404 - val_acc: 0.7422 - val_f1_m: 0.4648 - val_precision_m: 0.3124 - val_recall_m: 0.9606\n",
            "Epoch 100/100\n",
            "106/106 [==============================] - 93s 879ms/step - loss: 0.0207 - acc: 0.9912 - f1_m: 0.4640 - precision_m: 0.3093 - recall_m: 0.9760 - val_loss: 1.2889 - val_acc: 0.7431 - val_f1_m: 0.4551 - val_precision_m: 0.3076 - val_recall_m: 0.9234\n"
          ],
          "name": "stdout"
        }
      ]
    },
    {
      "cell_type": "code",
      "metadata": {
        "id": "_H84TFjNhP8E"
      },
      "source": [
        "%matplotlib inline\n",
        "from matplotlib import pyplot as plt\n",
        "import numpy as np\n",
        "\n",
        "\n",
        "def plot_graphs1(H):\n",
        "    plt.style.use(\"ggplot\")\n",
        "    plt.figure(figsize=((10,8)))\n",
        "    plt.plot(np.arange(1, number_of_epochs+1), H.history[\"loss\"], label=\"train_loss\")\n",
        "    plt.plot(np.arange(1, number_of_epochs+1), H.history[\"acc\"], label=\"train_acc\")\n",
        "    plt.plot(np.arange(1, number_of_epochs+1), H.history[\"val_acc\"], label=\"val_acc\")\n",
        "    plt.title(\"Training Loss and Accuracy\")\n",
        "    plt.xlabel(\"Epochs\")\n",
        "    plt.ylabel(\"Loss/Accuracy\")\n",
        "    plt.legend()\n",
        "    plt.savefig(\"model_history1\")\n",
        "    plt.show()"
      ],
      "execution_count": null,
      "outputs": []
    },
    {
      "cell_type": "code",
      "metadata": {
        "id": "jxkQB4Fhibzz"
      },
      "source": [
        "%matplotlib inline\n",
        "from matplotlib import pyplot as plt\n",
        "import numpy as np\n",
        "from sklearn.metrics import precision_score\n",
        "from sklearn.metrics import recall_score\n",
        "from sklearn.metrics import f1_score\n",
        "\n",
        "def plot_graphs2(H):\n",
        "    plt.style.use(\"ggplot\")\n",
        "    plt.figure()\n",
        "    plt.figure(figsize=((10,8)))\n",
        "    plt.plot(np.arange(1, number_of_epochs+1), H.history[\"f1_m\"], label=\"F1 Score\")\n",
        "    plt.plot(np.arange(1, number_of_epochs+1), H.history[\"recall_m\"], label=\"Recall\")\n",
        "    plt.plot(np.arange(1, number_of_epochs+1), H.history[\"precision_m\"], label=\"Precision\")\n",
        "    plt.title(\"Other Metrics\")\n",
        "    plt.xlabel(\"Epochs\")\n",
        "    plt.ylabel(\"Value\")\n",
        "    plt.legend()\n",
        "    plt.savefig(\"model_history2\")\n",
        "    plt.show()"
      ],
      "execution_count": null,
      "outputs": []
    },
    {
      "cell_type": "code",
      "metadata": {
        "id": "EZ0O0A_2FdsK"
      },
      "source": [
        "def plot_recall(H):\n",
        "    plt.style.use(\"ggplot\")\n",
        "    plt.figure()\n",
        "    plt.figure(figsize=((10,8)))\n",
        "    plt.plot(np.arange(1, number_of_epochs+1), H.history[\"recall_m\"], label=\"Recall\")\n",
        "    plt.title(\"Recall\")\n",
        "    plt.xlabel(\"Epochs\")\n",
        "    plt.ylabel(\"Value\")\n",
        "    plt.legend()\n",
        "    plt.savefig(\"model_recall\")\n",
        "    plt.show()"
      ],
      "execution_count": null,
      "outputs": []
    },
    {
      "cell_type": "code",
      "metadata": {
        "colab": {
          "base_uri": "https://localhost:8080/",
          "height": 517
        },
        "id": "VKp0CfmXjdCX",
        "outputId": "33909209-498e-4323-9d29-b8fbca55fb59"
      },
      "source": [
        "plot_graphs1(bert_history)"
      ],
      "execution_count": null,
      "outputs": [
        {
          "output_type": "display_data",
          "data": {
            "image/png": "[encoded data removed]",
            "text/plain": [
              "<Figure size 720x576 with 1 Axes>"
            ]
          },
          "metadata": {
            "tags": []
          }
        }
      ]
    },
    {
      "cell_type": "code",
      "metadata": {
        "colab": {
          "base_uri": "https://localhost:8080/",
          "height": 534
        },
        "id": "Bq3392qZjywf",
        "outputId": "1d34b0b3-f59f-4ee8-c911-3ea65611c0cf"
      },
      "source": [
        "plot_graphs2(bert_history)"
      ],
      "execution_count": null,
      "outputs": [
        {
          "output_type": "display_data",
          "data": {
            "text/plain": [
              "<Figure size 432x288 with 0 Axes>"
            ]
          },
          "metadata": {
            "tags": []
          }
        },
        {
          "output_type": "display_data",
          "data": {
            "image/png": "[encoded data removed]",
            "text/plain": [
              "<Figure size 720x576 with 1 Axes>"
            ]
          },
          "metadata": {
            "tags": []
          }
        }
      ]
    },
    {
      "cell_type": "code",
      "metadata": {
        "id": "v_yaUMaDkg5q",
        "colab": {
          "base_uri": "https://localhost:8080/",
          "height": 534
        },
        "outputId": "ce0bee74-cb6e-4b1f-f4b3-891ee0914579"
      },
      "source": [
        "plot_recall(bert_history)"
      ],
      "execution_count": null,
      "outputs": [
        {
          "output_type": "display_data",
          "data": {
            "text/plain": [
              "<Figure size 432x288 with 0 Axes>"
            ]
          },
          "metadata": {
            "tags": []
          }
        },
        {
          "output_type": "display_data",
          "data": {
            "image/png": "[encoded data removed]",
            "text/plain": [
              "<Figure size 720x576 with 1 Axes>"
            ]
          },
          "metadata": {
            "tags": []
          }
        }
      ]
    },
    {
      "cell_type": "code",
      "metadata": {
        "id": "PRkLj3O1Gxqc"
      },
      "source": [
        "def plot_f1(H):\n",
        "    plt.style.use(\"ggplot\")\n",
        "    plt.figure()\n",
        "    ##\n",
        "    plt.figure(figsize=((10,8)))\n",
        "    #plt.plot([1,1.6,3])\n",
        "    ##\n",
        "    plt.plot(np.arange(1, number_of_epochs+1), H.history[\"f1_m\"], label=\"F1 Score\")\n",
        "    #plt.plot(np.arange(1, number_of_epochs+1), H.history[\"recall_m\"], label=\"Recall\")\n",
        "    #plt.plot(np.arange(1, number_of_epochs+1), H.history[\"precision_m\"], label=\"Precision\")\n",
        "    \n",
        "\n",
        "    plt.title(\"F1 Score\")\n",
        "    plt.xlabel(\"Epochs\")\n",
        "    plt.ylabel(\"Value\")\n",
        "    plt.legend()\n",
        "    plt.savefig(\"model_f1_score\")\n",
        "    plt.show()"
      ],
      "execution_count": null,
      "outputs": []
    },
    {
      "cell_type": "code",
      "metadata": {
        "colab": {
          "base_uri": "https://localhost:8080/",
          "height": 534
        },
        "id": "pMJypi2UG_KQ",
        "outputId": "787e3298-ce80-4abf-c0b2-71fa510c2dc7"
      },
      "source": [
        "plot_f1(bert_history)"
      ],
      "execution_count": null,
      "outputs": [
        {
          "output_type": "display_data",
          "data": {
            "text/plain": [
              "<Figure size 432x288 with 0 Axes>"
            ]
          },
          "metadata": {
            "tags": []
          }
        },
        {
          "output_type": "display_data",
          "data": {
            "image/png": "[encoded data removed]",
            "text/plain": [
              "<Figure size 720x576 with 1 Axes>"
            ]
          },
          "metadata": {
            "tags": []
          }
        }
      ]
    },
    {
      "cell_type": "code",
      "metadata": {
        "id": "ssSqSGNOHD69"
      },
      "source": [
        "def plot_precision(H):\n",
        "    plt.style.use(\"ggplot\")\n",
        "    plt.figure()\n",
        "    plt.figure(figsize=((10,8)))\n",
        "    plt.plot(np.arange(1, number_of_epochs+1), H.history[\"precision_m\"], label=\"Precision\")\n",
        "    plt.title(\"Precision\")\n",
        "    plt.xlabel(\"Epochs\")\n",
        "    plt.ylabel(\"Value\")\n",
        "    plt.legend()\n",
        "    plt.savefig(\"model_precision\")\n",
        "    plt.show()"
      ],
      "execution_count": null,
      "outputs": []
    },
    {
      "cell_type": "code",
      "metadata": {
        "colab": {
          "base_uri": "https://localhost:8080/",
          "height": 534
        },
        "id": "6tNIkm_-HN6g",
        "outputId": "91539f13-1b3f-4e29-eb8e-6d1912bdc30d"
      },
      "source": [
        "plot_precision(bert_history)"
      ],
      "execution_count": null,
      "outputs": [
        {
          "output_type": "display_data",
          "data": {
            "text/plain": [
              "<Figure size 432x288 with 0 Axes>"
            ]
          },
          "metadata": {
            "tags": []
          }
        },
        {
          "output_type": "display_data",
          "data": {
            "image/png": "[encoded data removed]",
            "text/plain": [
              "<Figure size 720x576 with 1 Axes>"
            ]
          },
          "metadata": {
            "tags": []
          }
        }
      ]
    },
    {
      "cell_type": "code",
      "metadata": {
        "id": "a2LBlOoxHRBI"
      },
      "source": [
        ""
      ],
      "execution_count": null,
      "outputs": []
    }
  ]
}